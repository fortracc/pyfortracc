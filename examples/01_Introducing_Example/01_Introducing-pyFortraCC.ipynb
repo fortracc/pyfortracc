{
 "cells": [
  {
   "attachments": {},
   "cell_type": "markdown",
   "metadata": {},
   "source": [
    "<div align=\"center\"; span style=\"color:#336699\"><b><h2>pyForTraCC - Introducing Example </h2></b></div>\n",
    "<hr style=\"border:2px solid #0077b9;\">\n",
    "<br/>\n",
    "<div style=\"text-align: center;font-size: 90%;\">\n",
    "   <sup><a href=\"https://www.linkedin.com/in/helvecio-leal/\"> Helvécio B. Leal Neto, <i class=\"fab fa-lg fa-orcid\" style=\"color: #a6ce39\"></i></a></sup><t>&nbsp;</t> \n",
    "    <sup><a href=\"https://www.linkedin.com/in/alan-calheiros-64a252160/\">Alan J. P. Calheiros<i class=\"fab fa-lg fa-orcid\" style=\"color: #a6ce39\"></i></a></sup>\n",
    "   <br/><br/>\n",
    "    National Institute for Space Research (INPE)\n",
    "    <br/>\n",
    "    Avenida dos Astronautas, 1758, Jardim da Granja, São José dos Campos, SP 12227-010, Brazil\n",
    "    <br/><br/>\n",
    "    Contact: <a href=\"mailto:helvecio.neto@inpe.br\">helvecio.neto@inpe.br</a>, <a href=\"mailto:alan.calheiros@inpe.br\">alan.calheiros@inpe.br</a>\n",
    "    <br/><br/>\n",
    "    Last Update: Sep 6, 2025\n",
    "</div>\n",
    "\n",
    "<br/>\n",
    "\n",
    "<div style=\"text-align: justify;  margin-left: 25%; margin-right: 25%;\">\n",
    "<b>Abstract.</b> This notebook shows the steps for using the pyFortraCC to track objects present in a synthetic data set.\n",
    "</div>    \n",
    "\n",
    "<br/>\n",
    "\n",
    "<div style=\"text-align: justify;  margin-left: 15%; margin-right: 15%;font-size: 75%; border-style: solid; border-color: #0077b9; border-width: 1px; padding: 5px;\">\n",
    "    <b>This notebook is part of the <a href=\"https://github.com/fortracc/pyfortracc\">pyfortracc</a> examples gallery</b>\n",
    "    <div style=\"margin-left: 10px; margin-right: 10px; margin-top:10px\">\n",
    "      <p> Leal Neto, H.B.; Calheiros, A.J.P.;  pyFortraCC Algorithm. São José dos Campos, INPE, 2024. <a href=\"https://github.com/fortracc-project/pyfortracc\" target=\"_blank\"> Online </a>. </p>\n",
    "    </div>\n",
    "</div>"
   ]
  },
  {
   "cell_type": "markdown",
   "metadata": {},
   "source": [
    "### Schedule\n",
    " [1. Installation](#install)<br>\n",
    " [2. Input Data](#input)<br>\n",
    " [3. Read Function](#data)<br>\n",
    " [4. Parameters (Name_list)](#namelist)<br>\n",
    " [5. Tracking Routine](#track)<br>\n",
    " [6. Tracking Table](#tracktable)<br>\n",
    " [7. Tracking Visualization](#visualization)<br>"
   ]
  },
  {
   "cell_type": "markdown",
   "metadata": {},
   "source": [
    "<a id='install'></a>\n",
    "#### 1. Installation\n",
    "\n",
    "Installing the pyFortraCC package can be done using the pip install command. \n",
    "\n",
    "All dependencies will be installed in the current Python environment and the code will be ready to use."
   ]
  },
  {
   "cell_type": "code",
   "execution_count": null,
   "metadata": {},
   "outputs": [],
   "source": [
    "# Install latest version of pyfortracc\n",
    "!python -m pip install -q -U pyfortracc"
   ]
  },
  {
   "cell_type": "markdown",
   "metadata": {},
   "source": [
    "After installation, if everything is correct, you can import the pyFortraCC package."
   ]
  },
  {
   "cell_type": "code",
   "execution_count": null,
   "metadata": {},
   "outputs": [],
   "source": [
    "import pyfortracc\n",
    "print('pyFortracc version', pyfortracc.__version__)"
   ]
  },
  {
   "cell_type": "markdown",
   "metadata": {},
   "source": [
    "To consult the documentation, you can use the command `help(pyfortracc)`"
   ]
  },
  {
   "cell_type": "code",
   "execution_count": null,
   "metadata": {},
   "outputs": [],
   "source": [
    "# pyfortracc package information\n",
    "help(pyfortracc)"
   ]
  },
  {
   "cell_type": "markdown",
   "metadata": {},
   "source": [
    "<a id='input'></a>\n",
    "#### 2. Input Data\n",
    "\n",
    "The dataset for this example is a synthetic set created to simulate the movement of cells in a 2D domain.<br>\n",
    "And the values of each cell are reflectivity, equivalent to the radar reflectivity. All the data is stored in the netCDF format.\n",
    "The code below downloads the data and saves it in the input folder."
   ]
  },
  {
   "cell_type": "code",
   "execution_count": null,
   "metadata": {},
   "outputs": [],
   "source": [
    "import requests, zipfile, io, shutil\n",
    "\n",
    "# Remove the input folder if it exists\n",
    "shutil.rmtree('input', ignore_errors=True)\n",
    "\n",
    "# Download the input files from Zenodo\n",
    "url = 'https://zenodo.org/api/records/10624391/files-archive'\n",
    "response = requests.get(url)\n",
    "with zipfile.ZipFile(io.BytesIO(response.content)) as zip_ref:\n",
    "    zip_ref.extractall('input')"
   ]
  },
  {
   "cell_type": "markdown",
   "metadata": {},
   "source": [
    "<a id='data'></a>\n",
    "#### 3. Read Function:\n",
    "\n",
    "The read function is responsible for reading the data and returning the data in the format required by the pyFortraCC package.<br>\n",
    "For this example, the data is in the netCDF format, and the read function receives the path to the file and returns 2D numpy array."
   ]
  },
  {
   "cell_type": "code",
   "execution_count": null,
   "metadata": {},
   "outputs": [],
   "source": [
    "# Read_function data get a path and return a numpy array\n",
    "import xarray as xr\n",
    "def read_function(path):\n",
    "\tdata = xr.open_dataarray(path).data\n",
    "\treturn data"
   ]
  },
  {
   "cell_type": "markdown",
   "metadata": {},
   "source": [
    "To verify the data, we can use the read function and check the values and the shape of the data."
   ]
  },
  {
   "cell_type": "code",
   "execution_count": null,
   "metadata": {},
   "outputs": [],
   "source": [
    "import numpy as np\n",
    "import glob\n",
    "\n",
    "files = sorted(glob.glob('input/*.nc'))\n",
    "sample_data = read_function(files[0])\n",
    "print('Shape of the data:', sample_data.shape)\n",
    "print('Data type:', sample_data.dtype)\n",
    "print('Min:', np.nanmin(sample_data),'dBZ and', np.nanmax(sample_data), 'dBZ\\n')\n",
    "print('Example of the data:\\n', sample_data)"
   ]
  },
  {
   "cell_type": "markdown",
   "metadata": {},
   "source": [
    "pyFortraCC have a multiple utility functions to help the user to visualize the data. \n",
    "The function `plot_animation` is one of them. It receives the path where the data is stored showing the animation of the data."
   ]
  },
  {
   "cell_type": "code",
   "execution_count": null,
   "metadata": {},
   "outputs": [],
   "source": [
    "pyfortracc.plot_animation(path_files='input/*.nc', read_function=read_function)"
   ]
  },
  {
   "cell_type": "code",
   "execution_count": null,
   "metadata": {},
   "outputs": [],
   "source": [
    "# Example Name list dictionary of mandatory parameters\n",
    "name_list = {}\n",
    "name_list['input_path'] = 'input/' # path to the input files\n",
    "name_list['output_path'] = 'output/' # path to the output files\n",
    "name_list['thresholds'] = [20,30,45] # python list of intensity thresholds to be used in the segmentation process\n",
    "name_list['min_cluster_size'] = [10,5,3] # python thay list contains the minimum size of clusters\n",
    "name_list['operator'] = '>=' # '>= - <=' or '=='\n",
    "name_list['timestamp_pattern'] = '%Y%m%d_%H%M%S.nc' # timestamp file pattern\n",
    "name_list['delta_time'] = 12 # in minutes\n",
    "\n",
    "# Optional parameters, if not set, the algorithm will not use geospatial information\n",
    "name_list['lon_min'] = -62.1475 # Min longitude of data in degrees\n",
    "name_list['lon_max'] = -57.8461 # Max longitude of data in degrees\n",
    "name_list['lat_min'] = -5.3048 # Min latitude of data in degrees\n",
    "name_list['lat_max'] = -0.9912 # Max latitude of data in degrees"
   ]
  },
  {
   "cell_type": "code",
   "execution_count": null,
   "metadata": {},
   "outputs": [],
   "source": [
    "# If you want show all parameters\n",
    "help(pyfortracc.default_parameters)"
   ]
  },
  {
   "cell_type": "markdown",
   "metadata": {},
   "source": [
    "<a id='track'></a>\n",
    "#### 5. Track Routine\n",
    "\n",
    "The tracking module groups the main objectives of the algorithm. This module uses the tracking parameters and the data reading function, and only with this information is it possible to carry out the entire tracking process of the objects present in the input data. The output of this module will be the tracking files, and they will be located in the trackingtable directory, which gives the name to the same entity that we will see in the next topic. Furthermore, it is worth highlighting that each step of the tracking module groups other modules (Features Extraction, Spatial Operations, Cluster linking and Result Containment) intended for the object tracking process.\n",
    "You could also run all the functions in one line using the track function:"
   ]
  },
  {
   "cell_type": "code",
   "execution_count": null,
   "metadata": {},
   "outputs": [],
   "source": [
    "pyfortracc.track(name_list, read_function)"
   ]
  },
  {
   "cell_type": "markdown",
   "metadata": {},
   "source": [
    "<a id='tracktable'></a>\n",
    "#### 6. Tracking table\n",
    "\n",
    "The tracking table is the generalized output entity of the algorithm, it is formed by the set of files (.parquet) that are located in the output directory of the same name ('output_path/trackingtable'). The information obtained in the tracking process is stored in a tabular format, and is organized according to the tracking time. Listed below are the names of the columns (output variables) and what they represent.\n",
    "\n",
    "- Each row of tracking table is related to a cluster at its corresponding threshold level. \n",
    "- The information spans from unique identifiers and descriptive statistics to geometric properties and temporal features. \n",
    "- The Tracking table structure provides a comprehensive view of grouped entities, facilitating analysis and understanding of patterns across different threshold levels.\n",
    "\n",
    "Tracking table columns:\n",
    "\n",
    "*   **timestamp** (datetime64[us]): Temporal information of cluster.\n",
    "*   **uid** (float64): Unique identifier of cluster.\n",
    "*   **iuid** (float64): Internal Unique identifier of cluster.\n",
    "*   **threshold_level** (int64): Level of threshold.\n",
    "*   **threshold** (float64): Specific threshold.\n",
    "*   **status** (object): Entity status (NEW, CONTINUOUS, SPLIT, MERGE, SPLIT/MERGE).\n",
    "*   **u_, v_** (float64): Vector components.\n",
    "*   **inside_clusters** (object): Number of inside clusters.\n",
    "*   **size** (int64): Cluster size in pixels.\n",
    "*   **min, mean, max, std** (float64): Descriptive statistics.\n",
    "*   **delta_time** (timedelta64[us]): Temporal variation.\n",
    "*   **file** (object): Associated file name.\n",
    "*   **array_y, array_x** (object): Cluster array coordinates.\n",
    "*   **vector_field** (object): Associated vector field.\n",
    "*   **trajectory** (object): Cluster's trajectory.\n",
    "*   **geometry** (object):  Boundary geometric representation of the cluster.\n",
    "*   **lifetime** (int64): Cluster lifespan in minutes.\n",
    "*   **duration** (int64): Cluster duration in minutes.\n",
    "*   **genesis** (int64): Cluster genesis, with genesis: 1, active: 0, and death: -1."
   ]
  },
  {
   "cell_type": "markdown",
   "metadata": {},
   "source": [
    "Read the tracking table and concatenate the information in a single dataframe. For this, we will use glob and pandas libraries."
   ]
  },
  {
   "cell_type": "code",
   "execution_count": null,
   "metadata": {},
   "outputs": [],
   "source": [
    "import pandas as pd\n",
    "import glob\n",
    "\n",
    "tracking_files = sorted(glob.glob(name_list['output_path'] + '/track/trackingtable/*.parquet'))\n",
    "tracking_table = pd.concat(pd.read_parquet(f) for f in tracking_files)\n",
    "display(tracking_table.head())"
   ]
  },
  {
   "cell_type": "markdown",
   "metadata": {},
   "source": [
    "If you want convert the tracking table to a csv file, you can use directly convertion of dataframe to csv file."
   ]
  },
  {
   "cell_type": "code",
   "execution_count": null,
   "metadata": {},
   "outputs": [],
   "source": [
    "tracking_table.to_csv('tracking_table.csv')"
   ]
  },
  {
   "cell_type": "markdown",
   "metadata": {},
   "source": [
    "<a id='visualization'></a>\n",
    "#### 7. Track Visualization\n",
    "\n",
    "To check the tracking results visually, the algorithm has a visualization module that allows you to check the tracking results based on the data in the tracking table. "
   ]
  },
  {
   "cell_type": "code",
   "execution_count": null,
   "metadata": {},
   "outputs": [],
   "source": [
    "# Visualize the tracking at a specific timestamp\n",
    "pyfortracc.plot(timestamp='2014-02-12 11:24:00',\n",
    "                name_list=name_list,\n",
    "                read_function=read_function,\n",
    "                cbar_title='dBZ',\n",
    "                info_cols=['uid','lifetime'])"
   ]
  },
  {
   "cell_type": "code",
   "execution_count": null,
   "metadata": {},
   "outputs": [],
   "source": [
    "# Visualize as animation. (obs: the animation could be fail sometimes, run again to fix)\n",
    "pyfortracc.plot_animation(read_function= read_function,\n",
    "                          name_list= name_list, \n",
    "                          cbar_title= 'dBZ',\n",
    "                          threshold_list= [20],\n",
    "                          info_cols=['uid','lifetime','status'],\n",
    "                          start_timestamp= '2014-02-12 10:00:00', \n",
    "                          end_timestamp ='2014-02-12 14:12:00',\n",
    "                          background='google',\n",
    "                          parallel= False)"
   ]
  }
 ],
 "metadata": {
  "kernelspec": {
   "display_name": "pyfortracc",
   "language": "python",
   "name": "python3"
  },
  "language_info": {
   "codemirror_mode": {
    "name": "ipython",
    "version": 3
   },
   "file_extension": ".py",
   "mimetype": "text/x-python",
   "name": "python",
   "nbconvert_exporter": "python",
   "pygments_lexer": "ipython3",
   "version": "3.12.11"
  },
  "orig_nbformat": 4
 },
 "nbformat": 4,
 "nbformat_minor": 2
}
