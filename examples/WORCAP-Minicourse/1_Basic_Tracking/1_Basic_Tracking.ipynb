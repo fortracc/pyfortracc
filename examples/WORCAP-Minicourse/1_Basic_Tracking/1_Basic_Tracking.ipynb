{
 "cells": [
  {
   "cell_type": "markdown",
   "id": "8c263a51",
   "metadata": {},
   "source": [
    "<div align=\"center\"; span style=\"color:#336699\"><b><h2>Minicurso pyForTraCC </h2></b></div>\n",
    "<div align=\"center\"; span style=\"color:#336699\"><b><h3>1. Exemplo introdutório</h3></b></div>\n",
    "<hr style=\"border:2px solid #0077b9;\">\n",
    "<br/>\n",
    "<div style=\"text-align: center;font-size: 90%;\">\n",
    "   <sup>Autor: <a href=\"https://www.linkedin.com/in/helvecio-leal/\"> Helvécio B. Leal Neto, <i class=\"fab fa-lg fa-orcid\" style=\"color: #a6ce39\"></i></a></sup><t>&nbsp;</t> \n",
    "   <br/><br/>\n",
    "    National Institute for Space Research (INPE)\n",
    "    <br/>\n",
    "    Avenida dos Astronautas, 1758, Jardim da Granja, São José dos Campos, SP 12227-010, Brazil\n",
    "    <br/><br/>\n",
    "    Contact: <a href=\"mailto:fortracc.project@inpe.br\">fortracc.project@inpe.br</a>\n",
    "    <br/><br/>\n",
    "    Last Update: Sep 6, 2025\n",
    "</div>\n",
    "\n",
    "<br/>\n",
    "\n",
    "<div style=\"text-align: center; margin: 0 auto; width: 80ch;\">\n",
    "<b>Resumo.</b> Este notebook faz parte do minicurso de introdução ao <a href=\"https://github.com/fortracc/pyfortracc\">pyfortracc</a> e apresenta um exemplo básico de rastreamento de dados sintéticos</a>.\n",
    "</div>\n",
    "\n",
    "<div align=\"center\">\n",
    "\n",
    "[![Open in Colab](https://colab.research.google.com/assets/colab-badge.svg)](https://colab.research.google.com/github/fortracc/pyfortracc/blob/main/examples/WORCAP-Minicourse/1_Basic_Tracking/1_Basic_Tracking.ipynb) \n",
    "\n",
    "</div>\n",
    "<br/>"
   ]
  },
  {
   "cell_type": "markdown",
   "id": "ae57b4c9",
   "metadata": {},
   "source": [
    "### Roteiro\n",
    " [1. Instalação](#install)<br>\n",
    " [2. Dados de Entrada](#input)<br>\n",
    " [3. Função de Leitura](#data)<br>\n",
    " [4. Parâmetros (Name_list)](#namelist)<br>\n",
    " [5. Rotina de Rastreamento](#track)<br>\n",
    " [6. Tabela de Rastreamento](#tracktable)<br>\n",
    " [7. Visualização de Rastreamento](#visualization)<br>\n"
   ]
  },
  {
   "cell_type": "markdown",
   "id": "77b21b1c",
   "metadata": {},
   "source": [
    "#### 1. **Instalação** <a class=\"anchor\" id=\"install\"></a>\n",
    "Para instalar a biblioteca pyFortraCC, você pode usar o pip. Execute o seguinte comando"
   ]
  },
  {
   "cell_type": "code",
   "execution_count": null,
   "id": "8aaa9498",
   "metadata": {},
   "outputs": [],
   "source": [
    "# Comando para instalação da ultima versão estável do pyfortracc\n",
    "!python -m pip install -qqq -U pyfortracc > /dev/null 2>&1 && echo \"✅ pyfortracc instalado com sucesso!\" || echo \"❌ Erro na instalação\""
   ]
  },
  {
   "cell_type": "markdown",
   "id": "e931f8dc",
   "metadata": {},
   "source": [
    "Após a instalação caso tudo ocorra bem você verá a mensagem \"✅ pyfortracc instalado com sucesso!\". \n",
    "\n",
    "Em seguida, você pode importar a biblioteca e verificar a versão instalada."
   ]
  },
  {
   "cell_type": "code",
   "execution_count": null,
   "id": "fa4df955",
   "metadata": {},
   "outputs": [],
   "source": [
    "# Importa o pyfortracc e mostra a versão instalada\n",
    "import pyfortracc\n",
    "print('pyFortracc version', pyfortracc.__version__)"
   ]
  },
  {
   "cell_type": "markdown",
   "id": "2dd79ca2",
   "metadata": {},
   "source": [
    "#### 2. **Dados de Entrada** <a class=\"anchor\" id=\"input\"></a>\n",
    "\n",
    "Para este exemplo, usaremos dados sintéticos gerados por uma função interna do pyfortracc chamada `bubble_simulation()`. Esta função cria um conjunto de dados fictícios que simulam a movimentação de objetos ao longo do tempo e armazena esses dados como imagens no formato png no diretório especificado."
   ]
  },
  {
   "cell_type": "code",
   "execution_count": null,
   "id": "5f0e79c8",
   "metadata": {},
   "outputs": [],
   "source": [
    "# Gera arquivos de simulação de bolhas\n",
    "pyfortracc.utilities.bubble_simulation(dir='input/')"
   ]
  },
  {
   "cell_type": "markdown",
   "id": "54b9f0fc",
   "metadata": {},
   "source": [
    "Caso tudo ocorra bem, você poderá explorar o conteúdo das simulações geradas dentro do diretório especificado. Neste caso, o diretório é `.input/`. Você pode navegar até esse diretório para visualizar os arquivos de imagem gerados pela simulação. Cada arquivo de imagem representa um instante no tempo da simulação, mostrando a posição dos objetos simulados naquele momento específico. Com o comando abaixo, você pode listar os arquivos presentes no diretório `.input/` para verificar se as imagens foram criadas corretamente."
   ]
  },
  {
   "cell_type": "code",
   "execution_count": null,
   "id": "3a7c67b4",
   "metadata": {},
   "outputs": [],
   "source": [
    "# Lista os arquivos gerados no diretório de input\n",
    "!ls -s input/"
   ]
  },
  {
   "cell_type": "markdown",
   "id": "4e54454c",
   "metadata": {},
   "source": [
    "#### 3. **Função de Leitura** <a class=\"anchor\" id=\"data\"></a>\n",
    "A função `read_data()` é responsável por ler os dados de entrada, que neste caso são imagens PNG. Ela utiliza a biblioteca PIL (Python Imaging Library) para abrir e converter as imagens em arrays binários.  \n",
    "Essa função retorna um array numpy contendo os dados lidos de cada imagem.  \n",
    "Para `pyfortracc`, cada imagem é tratada como um \"frame\" ou \"time step\" na sequência temporal dos dados, e a saída da função deve ser um array numpy 2D.\n",
    "\n",
    "A célula abaixo demonstra como deve ser definida a função `read_data()` para ler imagens PNG."
   ]
  },
  {
   "cell_type": "code",
   "execution_count": null,
   "id": "696eff0b",
   "metadata": {},
   "outputs": [],
   "source": [
    "from PIL import Image\n",
    "import numpy as np\n",
    "\n",
    "# Define a função de leitura personalizada\n",
    "def read_function(path):\n",
    "    # Abre a imagem e converte para escala de cinza\n",
    "    img = Image.open(path).convert(\"L\")\n",
    "    # Converte a imagem em um array NumPy\n",
    "    arr = np.array(img)\n",
    "    # Binariza a imagem: bolhas (1) e fundo (0)\n",
    "    arr = np.where(arr < 250, 1, 0)\n",
    "    return arr"
   ]
  },
  {
   "cell_type": "markdown",
   "id": "8bb51e85",
   "metadata": {},
   "source": [
    "Para verificar se a função `read_data()` está funcionando corretamente, você pode tentar abrir uma das imagens geradas pela simulação.  A célula abaixo tenta abrir a imagem `input/frame_00.png` <br>e exibir seu conteúdo como um array numpy. Se a função estiver correta, você verá a matriz de valores binários representando a imagem."
   ]
  },
  {
   "cell_type": "code",
   "execution_count": null,
   "id": "9654b948",
   "metadata": {},
   "outputs": [],
   "source": [
    "# Testa a função de leitura\n",
    "read_function('input/frame_00.png')"
   ]
  },
  {
   "cell_type": "markdown",
   "id": "d4a97dce",
   "metadata": {},
   "source": [
    "Caso tudo ocorra bem, você verá a matriz de valores binários com dimensões de (50, 50), indicando que a imagem foi lida corretamente.<br>\n",
    "O pyfortracc também conta com uma função interna chamada `plot_animation()` que permite visualizar a sequência temporal dos dados lidos.<br>\n",
    "A célula abaixo demonstra como usar essa função para criar uma animação dos frames lidos pela função `read_data()`.<br>\n",
    "Como argumentos da função, você deve passar o caminho dos arquivos de entrada `input/*.png` e a função de leitura `read_function`."
   ]
  },
  {
   "cell_type": "code",
   "execution_count": null,
   "id": "be3c79eb",
   "metadata": {},
   "outputs": [],
   "source": [
    "# Visualiza a animação dos frames de entrada\n",
    "pyfortracc.plot_animation(path_files='input/*.png', \n",
    "                          read_function=read_function)"
   ]
  },
  {
   "cell_type": "markdown",
   "id": "2a9de491",
   "metadata": {},
   "source": [
    "#### 4. **Parâmetros (Name_list)** <a class=\"anchor\" id=\"namelist\"></a>\n",
    "O dicionário `name_list` é uma estrutura de dados que armazena os parâmetros necessários para o processo de rastreamento no pyfortracc. <br>\n",
    "Cada chave do dicionário representa um parâmetro específico, e o valor associado a essa chave define o comportamento do rastreamento.<br> Você pode encontrar uma descrição detalhada de cada parâmetro na [documentação oficial do pyfortracc](https://fortracc.github.io/pyfortracc/)."
   ]
  },
  {
   "cell_type": "markdown",
   "id": "c373f5dc",
   "metadata": {},
   "source": [
    "Vamos entender cada um dos parâmetros definidos no `name_list`:\n",
    "\n",
    "**`input_path` e `output_path`**: Definem os diretórios de entrada e saída dos dados, respectivamente.\n",
    "\n",
    "**`thresholds`**: Lista de valores de limiar usados para segmentar os dados. Objetos com valores maiores ou iguais a este limiar serão considerados como clusters. No nosso exemplo, usamos `[1]`, indicando que qualquer pixel com valor ≥ 1 será considerado parte de um objeto.\n",
    "\n",
    "**`min_cluster_size`**: Lista que define o tamanho mínimo (em pixels) para que um grupo de pixels conectados seja considerado um cluster válido. Clusters menores que este valor serão descartados. Usamos `[3]`, significando que clusters com menos de 3 pixels serão ignorados.\n",
    "\n",
    "**`operator`**: Define o operador de comparação usado com os thresholds. Pode ser:\n",
    "- `'>='`: maior ou igual (padrão)\n",
    "- `'<='`: menor ou igual  \n",
    "- `'=='`: igual\n",
    "\n",
    "**`timestamp_pattern`**: Padrão para extrair informações de tempo dos nomes dos arquivos. No exemplo, `'frame_%M.png'` significa que o número após \"frame_\" representa minutos. Outros padrões possíveis:\n",
    "- `'%Y%m%d_%H%M.png'`: para arquivos como \"20230915_1430.png\"\n",
    "- `'data_%d_%H.png'`: para arquivos como \"data_15_14.png\"\n",
    "\n",
    "**`delta_time`**: Intervalo de tempo entre frames consecutivos (em minutos). Este valor é crucial para calcular velocidades e trajetórias dos objetos."
   ]
  },
  {
   "cell_type": "code",
   "execution_count": null,
   "id": "5794a948",
   "metadata": {},
   "outputs": [],
   "source": [
    "# Define os parâmetros de entrada para o rastreamento\n",
    "name_list = {}\n",
    "name_list['input_path'] = 'input/' # Caminho para os arquivos de entrada\n",
    "name_list['output_path'] = 'output/' # Caminho para os arquivos de saída\n",
    "name_list['thresholds'] = [1] # Lista de limiares de intensidade a serem usados no processo de segmentação\n",
    "name_list['min_cluster_size'] = [3] # Lista que contém o tamanho mínimo dos clusters\n",
    "name_list['operator'] = '>=' # '>= - <=' ou '=='\n",
    "name_list['timestamp_pattern'] = 'frame_%M.png' # Padrão de nome de arquivo de timestamp\n",
    "name_list['delta_time'] = 1 # em minutos"
   ]
  },
  {
   "cell_type": "markdown",
   "id": "02993016",
   "metadata": {},
   "source": [
    "#### 5. **Rotina de Rastreamento** <a class=\"anchor\" id=\"track\"></a>\n",
    "\n",
    "Agora que temos nossos dados preparados, função de leitura definida e parâmetros configurados, podemos executar a rotina principal de rastreamento do pyfortracc.\n",
    "\n",
    "A função `pyfortracc.track()` é o coração do algoritmo e realiza as seguintes etapas:\n",
    "\n",
    "1. **Feature Extraction**: Extrai características dos objetos detectados, como área, centroide, intensidade máxima, etc.\n",
    "2. **Spatial Operations**: Realiza operações espaciais para identificar e conectar objetos entre frames.\n",
    "3. **Linking**: Conecta objetos entre frames consecutivos baseado em proximidade e características\n",
    "4. **Concat**: Concatena os resultados em uma tabela de rastreamento.\n",
    "\n",
    "**Importante**: Esta operação pode levar alguns segundos dependendo do tamanho dos dados e parámetros definidos."
   ]
  },
  {
   "cell_type": "code",
   "execution_count": null,
   "id": "20711f4a",
   "metadata": {},
   "outputs": [],
   "source": [
    "# Executa o rastreamento\n",
    "pyfortracc.track(name_list, read_function)"
   ]
  },
  {
   "cell_type": "markdown",
   "id": "8acb7b0c",
   "metadata": {},
   "source": [
    "#### 6. **Tabela de Rastreamento** <a class=\"anchor\" id=\"tracktable\"></a>\n",
    "\n",
    "Após executar o rastreamento, o pyfortracc gera diversos arquivos de saída contendo os resultados. Um dos principais outputs é a **tabela de rastreamento**, que contém informações detalhadas sobre cada objeto rastreado ao longo do tempo.\n",
    "\n",
    "A tabela de rastreamento em multiplos arquivos Parquet (um para cada frame) contém colunas como:\n",
    "\n",
    "* **`timestamp`** (datetime64[us]): Informação temporal do cluster.  \n",
    "* **`uid`** (float64): Identificador único do cluster.  \n",
    "* **`iuid`** (float64): Identificador único interno do cluster.  \n",
    "* **`threshold_level`** (int64): Nível do limiar.  \n",
    "* **`threshold`** (float64): Limiar específico.  \n",
    "* **`status`** (object): Status da entidade (NEW, CON, SPL, MRG, SPL/MRG)  \n",
    "* **`u_, v_`** (float64): Componentes do vetor.  \n",
    "* **`inside_clusters`** (object): Número de clusters internos.  \n",
    "* **`size`** (int64): Tamanho do cluster em pixels.  \n",
    "* **`min, mean, max, std`** (float64): Estatísticas descritivas.  \n",
    "* **`delta_time`** (timedelta64[us]): Variação temporal.  \n",
    "* **`file`** (object): Nome do arquivo associado.  \n",
    "* **`array_y, array_x`** (object): Coordenadas do array do cluster.  \n",
    "* **`vector_field`** (object): Campo vetorial associado.  \n",
    "* **`trajectory`** (object): Trajetória do cluster.  \n",
    "* **`geometry`** (object): Representação geométrica da fronteira do cluster.  \n",
    "* **`lifetime`** (int64): Vida útil do cluster em minutos.\n",
    "\n",
    "Para carregar a tabela de rastreamento, você pode usar a biblioteca pandas para ler os arquivos Parquet gerados. A célula abaixo demonstra como fazer isso."
   ]
  },
  {
   "cell_type": "code",
   "execution_count": null,
   "id": "cdba6a0c",
   "metadata": {},
   "outputs": [],
   "source": [
    "# Importa as bibliotecas necessárias\n",
    "import glob\n",
    "import pandas as pd\n",
    "\n",
    "# Carrega todos os arquivos de rastreamento no diretório de saída\n",
    "tracking_files = sorted(glob.glob(name_list['output_path'] + '/track/trackingtable/*.parquet'))\n",
    "tracking_table = pd.concat(pd.read_parquet(f) for f in tracking_files)\n",
    "\n",
    "tracking_table.head(3)"
   ]
  },
  {
   "cell_type": "markdown",
   "id": "d1d3bb24",
   "metadata": {},
   "source": [
    "Para selecionar clusters específicos, você pode usar os métodos de filtragem do pandas. Com isso, será possível analisar o comportamento de um cluster individual ao longo do tempo. A célula abaixo demonstra como selecionar clusters com `uid` igual a 1."
   ]
  },
  {
   "cell_type": "code",
   "execution_count": null,
   "id": "011a14f3",
   "metadata": {},
   "outputs": [],
   "source": [
    "# Seleciona clusters com uid igual a 1\n",
    "selected_clusters = tracking_table[tracking_table['uid'] == 1]\n",
    "selected_clusters.head(3)"
   ]
  },
  {
   "cell_type": "markdown",
   "id": "721a6fd9",
   "metadata": {},
   "source": [
    "Para explorar por exemplo as características de tamanho dos clusters ao longo do tempo, você pode plotar gráficos que mostrem a evolução dessas características. A célula abaixo demonstra como criar um gráfico simples da evolução do tamanho dos clusters com `uid` igual a 1 ao longo do tempo."
   ]
  },
  {
   "cell_type": "code",
   "execution_count": null,
   "id": "6d5ff5fc",
   "metadata": {},
   "outputs": [],
   "source": [
    "# Plotar a evolução do tamanho dos clusters com uid igual a 1 ao longo do tempo\n",
    "selected_clusters.plot(x='timestamp', y='size', marker='o', title='Evolução do Tamanho do Cluster com uid=1')"
   ]
  },
  {
   "cell_type": "markdown",
   "id": "fd639043",
   "metadata": {},
   "source": [
    "#### 7. **Visualização de Rastreamento** <a class=\"anchor\" id=\"visualization\"></a>\n",
    "\n",
    "O pyfortracc também oferece funcionalidades para visualizar os resultados do rastreamento. Você pode visualizar o rastreamento para um frame específico ou criar uma animação mostrando a evolução dos clusters ao longo do tempo."
   ]
  },
  {
   "cell_type": "code",
   "execution_count": null,
   "id": "abebedff",
   "metadata": {},
   "outputs": [],
   "source": [
    "# Visualiza o rastreamento para um frame específico no tempo '1900-01-01 00:19:00'\n",
    "pyfortracc.plot(name_list=name_list, read_function=read_function, timestamp='1900-01-01 00:19:00')"
   ]
  },
  {
   "cell_type": "markdown",
   "id": "3de13f7e",
   "metadata": {},
   "source": [
    "Ou você pode criar uma animação mostrando a evolução dos clusters ao longo do tempo."
   ]
  },
  {
   "cell_type": "code",
   "execution_count": null,
   "id": "24a80e69",
   "metadata": {},
   "outputs": [],
   "source": [
    "# Cria uma animação mostrando a evolução dos clusters ao longo do tempo\n",
    "pyfortracc.plot_animation(name_list= name_list, # Passa a lista de nomes\n",
    "                          read_function=read_function, # Passa a função de leitura\n",
    "                          start_timestamp= tracking_table['timestamp'].min().strftime('%Y-%m-%d %H:%M:%S'), # Data e hora de início no formato 'YYYY-MM-DD HH:MM:SS'\n",
    "                          end_timestamp= tracking_table['timestamp'].max().strftime('%Y-%m-%d %H:%M:%S'), # Data e hora de fim no formato 'YYYY-MM-DD HH:MM:SS'\n",
    "                          info_cols=['uid','lifetime', 'status'] # Colunas de informação a serem exibidas na animação\n",
    ")"
   ]
  },
  {
   "cell_type": "markdown",
   "id": "2ba158ae",
   "metadata": {},
   "source": [
    "### 8. **Conclusão** <a class=\"anchor\" id=\"conclusion\"></a>\n",
    "\n",
    "**Parabéns!** Você concluiu com sucesso o primeiro exemplo do pyfortracc. Neste tutorial, você aprendeu:\n",
    "\n",
    "- Como instalar e configurar o pyfortracc\n",
    "- Como preparar e ler dados de entrada\n",
    "- Como definir parâmetros essenciais para o rastreamento\n",
    "- Como executar a rotina de rastreamento\n",
    "- Como interpretar a tabela de rastreamento gerada\n",
    "- Como visualizar os resultados do rastreamento\n",
    "\n",
    "### Recursos Adicionais\n",
    "\n",
    "- [Documentação Oficial](https://pyfortracc.readthedocs.io/)\n",
    "- [Repositório GitHub](https://github.com/fortracc/pyfortracc)\n",
    "- [Suporte](mailto:fortracc.project@inpe.br)\n",
    "- [Artigos Científicos](https://pyfortracc.readthedocs.io/BI/BI_PUBLICATIONS.html)\n",
    "\n",
    "\n",
    "### Dicas para Casos Reais\n",
    "Quando aplicar o pyfortracc aos seus próprios dados:\n",
    "\n",
    "1. **Ajuste os thresholds** baseado nas características dos seus dados\n",
    "2. **Configure corretamente** o `timestamp_pattern` e `delta_time`\n",
    "3. **Defina `min_cluster_size`** apropriado para filtrar ruído\n",
    "4. **Use parâmetros avançados** como `memory` e `vel_continuity` para melhorar o linking\n",
    "5. **Monitore o uso de memória** em datasets grandes"
   ]
  }
 ],
 "metadata": {
  "kernelspec": {
   "display_name": "pyfortracc",
   "language": "python",
   "name": "python3"
  },
  "language_info": {
   "codemirror_mode": {
    "name": "ipython",
    "version": 3
   },
   "file_extension": ".py",
   "mimetype": "text/x-python",
   "name": "python",
   "nbconvert_exporter": "python",
   "pygments_lexer": "ipython3",
   "version": "3.12.11"
  }
 },
 "nbformat": 4,
 "nbformat_minor": 5
}
