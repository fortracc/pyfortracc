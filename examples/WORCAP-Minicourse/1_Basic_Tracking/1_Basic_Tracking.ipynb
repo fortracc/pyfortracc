{
 "cells": [
  {
   "cell_type": "markdown",
   "id": "8c263a51",
   "metadata": {},
   "source": [
    "<div align=\"center\"; span style=\"color:#336699\"><b><h2>Minicurso pyForTraCC </h2></b></div>\n",
    "<div align=\"center\"; span style=\"color:#336699\"><b><h3>1. Exemplo introdutório</h3></b></div>\n",
    "<hr style=\"border:2px solid #0077b9;\">\n",
    "<br/>\n",
    "<div style=\"text-align: center;font-size: 90%;\">\n",
    "   <sup>Autor: <a href=\"https://www.linkedin.com/in/helvecio-leal/\"> Helvécio B. Leal Neto, <i class=\"fab fa-lg fa-orcid\" style=\"color: #a6ce39\"></i></a></sup><t>&nbsp;</t> \n",
    "   <br/><br/>\n",
    "    National Institute for Space Research (INPE)\n",
    "    <br/>\n",
    "    Avenida dos Astronautas, 1758, Jardim da Granja, São José dos Campos, SP 12227-010, Brazil\n",
    "    <br/><br/>\n",
    "    Contact: <a href=\"mailto:fortracc.project@inpe.br\">fortracc.project@inpe.br</a>\n",
    "    <br/><br/>\n",
    "    Last Update: Sep 6, 2025\n",
    "</div>\n",
    "\n",
    "<br/>\n",
    "\n",
    "<div style=\"text-align: center; margin: 0 auto; width: 80ch;\">\n",
    "<b>Resumo.</b> Este notebook faz parte do minicurso de introdução ao <a href=\"https://github.com/fortracc/pyfortracc\">pyfortracc</a> e apresenta um exemplo básico de rastreamento de dados sintéticos</a>.\n",
    "</div>\n",
    "\n",
    "<div align=\"center\">\n",
    "\n",
    "[![Open in Colab](https://colab.research.google.com/assets/colab-badge.svg)](https://colab.research.google.com/github/fortracc/pyfortracc/blob/main/examples/WORCAP-Minicourse/1_Basic_Tracking/1_Basic_Tracking.ipynb) \n",
    "\n",
    "</div>\n",
    "<br/>"
   ]
  },
  {
   "cell_type": "markdown",
   "id": "ae57b4c9",
   "metadata": {},
   "source": [
    "### Roteiro\n",
    " [1. Instalação](#install)<br>\n",
    " [2. Dados de Entrada](#input)<br>\n",
    " [3. Função de Leitura](#data)<br>\n",
    " [4. Parâmetros (Name_list)](#namelist)<br>\n",
    " [5. Rotina de Rastreamento](#track)<br>\n",
    " [6. Tabela de Rastreamento](#tracktable)<br>\n",
    " [7. Visualização de Rastreamento](#visualization)<br>\n"
   ]
  },
  {
   "cell_type": "markdown",
   "id": "77b21b1c",
   "metadata": {},
   "source": [
    "##### 1. Instalação <a class=\"anchor\" id=\"install\"></a>\n",
    "Para instalar a biblioteca pyFortraCC, você pode usar o pip. Execute o seguinte comando"
   ]
  },
  {
   "cell_type": "code",
   "execution_count": null,
   "id": "8aaa9498",
   "metadata": {},
   "outputs": [],
   "source": [
    "# Comando para instalação da ultima versão estável do pyfortracc\n",
    "!python -m pip install -qqq -U pyfortracc > /dev/null 2>&1 && echo \"✅ pyfortracc instalado com sucesso!\" || echo \"❌ Erro na instalação\""
   ]
  },
  {
   "cell_type": "markdown",
   "id": "e931f8dc",
   "metadata": {},
   "source": [
    "Após a instalação caso tudo ocorra bem você verá a mensagem \"✅ pyfortracc instalado com sucesso!\". \n",
    "\n",
    "Em seguida, você pode importar a biblioteca a biblioteca e verificar a versão instalada."
   ]
  },
  {
   "cell_type": "code",
   "execution_count": null,
   "id": "cadb8180",
   "metadata": {},
   "outputs": [],
   "source": [
    "# reload notebook\n",
    "%load_ext autoreload\n",
    "%autoreload 2\n",
    "import sys\n",
    "sys.path.append(\"../../../\")  # Adiciona o diretório pai ao sys.path"
   ]
  },
  {
   "cell_type": "code",
   "execution_count": null,
   "id": "fa4df955",
   "metadata": {},
   "outputs": [],
   "source": [
    "import pyfortracc\n",
    "print('pyFortracc version', pyfortracc.__version__)"
   ]
  },
  {
   "cell_type": "markdown",
   "id": "2dd79ca2",
   "metadata": {},
   "source": [
    "##### 2. Dados de Entrada <a class=\"anchor\" id=\"input\"></a>\n",
    "\n",
    "Para este exemplo, usaremos dados sintéticos gerados por uma função interna do pyfortracc chamada `bubble_simulation()`. Esta função cria um conjunto de dados fictícios que simulam a movimentação de objetos ao longo do tempo e armazena esses dados como imagens no formato png no diretório especificado."
   ]
  },
  {
   "cell_type": "code",
   "execution_count": null,
   "id": "5f0e79c8",
   "metadata": {},
   "outputs": [],
   "source": [
    "pyfortracc.utilities.bubble_simulation(dir='input/')"
   ]
  },
  {
   "cell_type": "markdown",
   "id": "54b9f0fc",
   "metadata": {},
   "source": [
    "Caso tudo ocorra bem, você poderá explorar o conteúdo das simulações geradas dentro do diretório especificado. Neste caso, o diretório é `.input/`. Você pode navegar até esse diretório para visualizar os arquivos de imagem gerados pela simulação. Cada arquivo de imagem representa um instante no tempo da simulação, mostrando a posição dos objetos simulados naquele momento específico. Com o comando abaixo, você pode listar os arquivos presentes no diretório `.input/` para verificar se as imagens foram criadas corretamente."
   ]
  },
  {
   "cell_type": "code",
   "execution_count": null,
   "id": "3a7c67b4",
   "metadata": {},
   "outputs": [],
   "source": [
    "!ls -s input/"
   ]
  },
  {
   "cell_type": "markdown",
   "id": "5864a067",
   "metadata": {},
   "source": [
    "Na célula abaixo, você pode visualizar uma das imagens geradas pela simulação. A imagem `frame_00.png` representa o estado inicial da simulação, mostrando a posição dos objetos no primeiro instante de tempo."
   ]
  },
  {
   "cell_type": "markdown",
   "id": "ec13e53a",
   "metadata": {},
   "source": [
    "<img src=\"input/frame_00.png\" alt=\"Descrição da imagem\" width=\"10%\">"
   ]
  },
  {
   "cell_type": "markdown",
   "id": "4e54454c",
   "metadata": {},
   "source": [
    "##### 3. Função de Leitura <a class=\"anchor\" id=\"data\"></a>\n",
    "A função `read_data()` é responsável por ler os dados de entrada, que neste caso são imagens PNG. Ela utiliza a biblioteca PIL (Python Imaging Library) para abrir e converter as imagens em arrays binários.  \n",
    "Essa função retorna um array numpy contendo os dados lidos de cada imagem.  \n",
    "Para `pyfortracc`, cada imagem é tratada como um \"frame\" ou \"time step\" na sequência temporal dos dados, e a saída da função deve ser um array numpy 2D.\n",
    "\n",
    "A célula abaixo demonstra como deve ser definida a função `read_data()` para ler imagens PNG."
   ]
  },
  {
   "cell_type": "code",
   "execution_count": null,
   "id": "696eff0b",
   "metadata": {},
   "outputs": [],
   "source": [
    "from PIL import Image\n",
    "import numpy as np\n",
    "\n",
    "def read_function(path):\n",
    "    # Abre a imagem e converte para escala de cinza\n",
    "    img = Image.open(path).convert(\"L\")\n",
    "    # Converte a imagem em um array NumPy\n",
    "    arr = np.array(img)\n",
    "    # Binariza a imagem: bolhas (1) e fundo (0)\n",
    "    arr = np.where(arr < 250, 1, 0)\n",
    "    return arr"
   ]
  },
  {
   "cell_type": "markdown",
   "id": "8bb51e85",
   "metadata": {},
   "source": [
    "Para verificar se a função `read_data()` está funcionando corretamente, você pode tentar abrir uma das imagens geradas pela simulação.  A célula abaixo tenta abrir a imagem `input/frame_00.png` <br>e exibir seu conteúdo como um array numpy. Se a função estiver correta, você verá a matriz de valores binários representando a imagem."
   ]
  },
  {
   "cell_type": "code",
   "execution_count": null,
   "id": "9654b948",
   "metadata": {},
   "outputs": [],
   "source": [
    "read_function('input/frame_00.png')"
   ]
  },
  {
   "cell_type": "markdown",
   "id": "d4a97dce",
   "metadata": {},
   "source": [
    "Caso tudo ocorra bem, você verá a matriz de valores binários com dimensões de (50, 50), indicando que a imagem foi lida corretamente.<br>\n",
    "O pyfortracc também conta com uma função interna chamada `plot_animation()` que permite visualizar a sequência temporal dos dados lidos.<br>\n",
    "A célula abaixo demonstra como usar essa função para criar uma animação dos frames lidos pela função `read_data()`.<br>\n",
    "Como argumentos da função, você deve passar o caminho dos arquivos de entrada `input/*.png` e a função de leitura `read_function`."
   ]
  },
  {
   "cell_type": "code",
   "execution_count": null,
   "id": "be3c79eb",
   "metadata": {},
   "outputs": [],
   "source": [
    "pyfortracc.plot_animation(path_files='input/*.png', \n",
    "                          read_function=read_function)"
   ]
  },
  {
   "cell_type": "markdown",
   "id": "2a9de491",
   "metadata": {},
   "source": [
    "##### 4. Parâmetros (Name_list) <a class=\"anchor\" id=\"namelist\"></a>\n",
    "O dicionário `name_list` é uma estrutura de dados que armazena os parâmetros necessários para o processo de rastreamento no pyfortracc. <br>\n",
    "Cada chave do dicionário representa um parâmetro específico, e o valor associado a essa chave define o comportamento do rastreamento.<br> Você pode encontrar uma descrição detalhada de cada parâmetro na [documentação oficial do pyfortracc](https://fortracc.github.io/pyfortracc/)."
   ]
  },
  {
   "cell_type": "code",
   "execution_count": null,
   "id": "5794a948",
   "metadata": {},
   "outputs": [],
   "source": [
    "name_list = {}\n",
    "name_list['input_path'] = 'input/' # Caminho para os arquivos de entrada\n",
    "name_list['output_path'] = 'output/' # Caminho para os arquivos de saída\n",
    "name_list['thresholds'] = [1] # Lista de limiares de intensidade a serem usados no processo de segmentação\n",
    "name_list['min_cluster_size'] = [3] # Lista que contém o tamanho mínimo dos clusters\n",
    "name_list['operator'] = '>=' # '>= - <=' ou '=='\n",
    "name_list['timestamp_pattern'] = 'frame_%M.png' # Padrão de nome de arquivo de timestamp\n",
    "name_list['delta_time'] = 1 # em minutos"
   ]
  },
  {
   "cell_type": "code",
   "execution_count": null,
   "id": "20711f4a",
   "metadata": {},
   "outputs": [],
   "source": [
    "pyfortracc.track(name_list, read_function)"
   ]
  },
  {
   "cell_type": "code",
   "execution_count": null,
   "id": "cdba6a0c",
   "metadata": {},
   "outputs": [],
   "source": [
    "import pandas as pd\n",
    "import glob\n",
    "\n",
    "tracking_files = sorted(glob.glob(name_list['output_path'] + '/track/trackingtable/*.parquet'))\n",
    "tracking_table = pd.concat(pd.read_parquet(f) for f in tracking_files)\n",
    "# tracking_table.head()"
   ]
  },
  {
   "cell_type": "code",
   "execution_count": null,
   "id": "abebedff",
   "metadata": {},
   "outputs": [],
   "source": [
    "pyfortracc.plot(name_list=name_list, \n",
    "                read_function=read_function,\n",
    "                timestamp='1900-01-01 00:19:00',\n",
    "                )"
   ]
  },
  {
   "cell_type": "code",
   "execution_count": null,
   "id": "24a80e69",
   "metadata": {},
   "outputs": [],
   "source": [
    "pyfortracc.plot_animation(name_list= name_list, read_function=read_function,\n",
    "                          start_timestamp= tracking_table['timestamp'].min().strftime('%Y-%m-%d %H:%M:%S'), info=True, info_cols=['uid','lifetime', 'status'],\n",
    "                          end_timestamp= tracking_table['timestamp'].max().strftime('%Y-%m-%d %H:%M:%S'))"
   ]
  },
  {
   "cell_type": "code",
   "execution_count": null,
   "id": "583b990c",
   "metadata": {},
   "outputs": [],
   "source": []
  }
 ],
 "metadata": {
  "kernelspec": {
   "display_name": "pyfortracc",
   "language": "python",
   "name": "python3"
  },
  "language_info": {
   "codemirror_mode": {
    "name": "ipython",
    "version": 3
   },
   "file_extension": ".py",
   "mimetype": "text/x-python",
   "name": "python",
   "nbconvert_exporter": "python",
   "pygments_lexer": "ipython3",
   "version": "3.12.11"
  }
 },
 "nbformat": 4,
 "nbformat_minor": 5
}
