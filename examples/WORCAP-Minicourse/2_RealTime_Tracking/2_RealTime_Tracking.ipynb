{
 "cells": [
  {
   "cell_type": "markdown",
   "metadata": {},
   "source": [
    "<div align=\"center\"; span style=\"color:#336699\"><b><h2>Minicurso pyForTraCC </h2></b></div>\n",
    "<div align=\"center\"; span style=\"color:#336699\"><b><h3>2. Rastreio Operacional em Tempo Real com Dados do Satélite GOES-19</h3></b></div>\n",
    "<hr style=\"border:2px solid #0077b9;\">\n",
    "<br/>\n",
    "<div style=\"text-align: center;font-size: 90%;\">\n",
    "   <sup>Autores: <a href=\"https://www.linkedin.com/in/helvecio-leal/\"> Helvécio B. Leal Neto, <i class=\"fab fa-lg fa-orcid\" style=\"color: #a6ce39\"></i></a></sup><t>&nbsp;</t> \n",
    "   <br/><br/>\n",
    "    National Institute for Space Research (INPE)\n",
    "    <br/>\n",
    "    Avenida dos Astronautas, 1758, Jardim da Granja, São José dos Campos, SP 12227-010, Brazil\n",
    "    <br/><br/>\n",
    "    Contato: <a href=\"mailto:fortracc.project@inpe.br\">fortracc.project@inpe.br</a>\n",
    "    <br/><br/>\n",
    "    Última Atualização: Set 7, 2025\n",
    "</div>\n",
    "\n",
    "<br/>\n",
    "\n",
    "<div style=\"text-align: center; margin: 0 auto; width: 80ch;\">\n",
    "<b>Resumo.</b> Este notebook faz parte do minicurso de introdução ao <a href=\"https://github.com/fortracc/pyfortracc\">pyfortracc</a> e demonstra um exemplo completo de rastreamento operacional usando dados reais do satélite GOES-19. O tutorial abrange desde o download automático de dados de temperatura de brilho do sensor ABI até análises espaciais avançadas com integração de dados administrativos brasileiros. Inclui rastreamento de sistemas convectivos de mesoescala (SCM), aplicação de métodos de correção vetorial, visualizações cartográficas interativas e identificação de municípios com SCM ativos - fornecendo uma base sólida para aplicações de nowcasting meteorológico em tempo real.\n",
    "</div>\n",
    "\n",
    "<div align=\"center\">\n",
    "\n",
    "[![Open in Colab](https://colab.research.google.com/assets/colab-badge.svg)](https://colab.research.google.com/github/fortracc/pyfortracc/blob/main/examples/WORCAP-Minicourse/2_RealTime_Tracking/2_RealTime_Tracking.ipynb) \n",
    "\n",
    "</div>\n",
    "<br/>"
   ]
  },
  {
   "cell_type": "markdown",
   "metadata": {},
   "source": [
    "### Roteiro\n",
    " [1. Instalação](#install)<br>\n",
    " [2. Dados de Entrada](#input)<br>\n",
    " [3. Função de Leitura](#data)<br>\n",
    " [4. Parâmetros (Name_list)](#namelist)<br>\n",
    " [5. Rotina de Rastreamento](#track)<br>\n",
    " [6. Tabela de Rastreamento](#tracktable)<br>\n",
    " [7. Visualização de Rastreamento](#visualization)<br>\n",
    " [8. Nowcasting / Real-Time Tracking](#nowcasting)<br>\n",
    "    [8.1. Análise Espacial - Municípios Afetados](#spatial-analysis)<br>\n",
    " [9. Conclusão](#conclusion)<br>"
   ]
  },
  {
   "cell_type": "markdown",
   "metadata": {},
   "source": [
    "##### 1. Instalação <a class=\"anchor\" id=\"install\"></a>\n",
    "\n",
    "Para instalar a biblioteca pyFortraCC, você pode usar o pip. Execute o seguinte comando:"
   ]
  },
  {
   "cell_type": "code",
   "execution_count": null,
   "metadata": {},
   "outputs": [],
   "source": [
    "# Comando para instalação da ultima versão estável do pyfortracc\n",
    "!python -m pip install -qqq -U pyfortracc > /dev/null 2>&1 && echo \"✅ pyfortracc instalado com sucesso!\" || echo \"❌ Erro na instalação\""
   ]
  },
  {
   "cell_type": "markdown",
   "metadata": {},
   "source": [
    "Após a instalação, você pode importar a biblioteca e verificar a versão instalada:"
   ]
  },
  {
   "cell_type": "code",
   "execution_count": null,
   "metadata": {},
   "outputs": [],
   "source": [
    "# Importa o pyfortracc e mostra a versão instalada\n",
    "import pyfortracc\n",
    "print('pyFortracc version', pyfortracc.__version__)"
   ]
  },
  {
   "cell_type": "markdown",
   "metadata": {},
   "source": [
    "##### 2. Dados de Entrada <a class=\"anchor\" id=\"input\"></a>\n",
    "\n",
    "Neste exemplo, utilizaremos dados reais de satélite do GOES-19. Usaremos o pacote `goesgcp` para baixar as imagens mais recentes do satélite GOES-19 diretamente do Google Cloud Platform (GCP).\n",
    "\n",
    "Para instalar o pacote `goesgcp`, execute o comando abaixo:"
   ]
  },
  {
   "cell_type": "code",
   "execution_count": null,
   "metadata": {},
   "outputs": [],
   "source": [
    "# Instalação do goesgcp do PyPI\n",
    "!python -m pip install -qqq -U goesgcp > /dev/null 2>&1 && echo \"✅ goesgcp instalado com sucesso!\" || echo \"❌ Erro na instalação do goesgcp\""
   ]
  },
  {
   "cell_type": "markdown",
   "metadata": {},
   "source": [
    "Após a instalação do `goesgcp`, podemos baixar as 10 imagens mais recentes do satélite GOES-19 e reprojetar os dados para uma grade regular com resolução de 0.045 graus (aproximadamente 5 km). Os dados são recortados para a região do Brasil.\n",
    "\n",
    "**Importante**: O download pode levar alguns minutos dependendo da sua conexão com a internet."
   ]
  },
  {
   "cell_type": "code",
   "execution_count": null,
   "metadata": {},
   "outputs": [],
   "source": [
    "# Remove qualquer diretório input/ anterior\n",
    "!rm -rf input/\n",
    "\n",
    "# Download das 10 imagens mais recentes do GOES-19\n",
    "# --recent 10: baixa as 10 imagens mais recentes\n",
    "# --output \"input/\": salva no diretório input/\n",
    "# --resolution 0.045: resolução de ~5km\n",
    "# --lat_min -35 --lat_max 5: limites de latitude (Sul para Norte)\n",
    "# --lon_min -80 --lon_max -30: limites de longitude (Oeste para Leste)\n",
    "!goesgcp --recent 10 --output \"input/\" --resolution 0.045 --lat_min -35 --lat_max 5 --lon_min -80 --lon_max -30"
   ]
  },
  {
   "cell_type": "markdown",
   "metadata": {},
   "source": [
    "##### 3. Função de Leitura <a class=\"anchor\" id=\"data\"></a>\n",
    "\n",
    "A função `read_function` é responsável por ler os dados dos arquivos de entrada. Neste caso, os dados são arquivos NetCDF contendo dados de temperatura de brilho do canal 13 (infravermelho) do sensor ABI do GOES-19.\n",
    "\n",
    "A função retorna um array numpy contendo os dados de temperatura de brilho:"
   ]
  },
  {
   "cell_type": "code",
   "execution_count": null,
   "metadata": {},
   "outputs": [],
   "source": [
    "# Função para ler os dados dos arquivos NetCDF baixados\n",
    "import xarray as xr\n",
    "import glob\n",
    "\n",
    "def read_function(path):\n",
    "    \"\"\"\n",
    "    Lê dados de temperatura de brilho de arquivos NetCDF do GOES-19\n",
    "    \n",
    "    Args:\n",
    "        path (str): Caminho para o arquivo NetCDF\n",
    "        \n",
    "    Returns:\n",
    "        numpy.array: Array 2D com dados de temperatura de brilho (invertido verticalmente)\n",
    "    \"\"\"\n",
    "    ds = xr.open_dataset(path)\n",
    "    # Retorna os dados de CMI (Cloud and Moisture Imagery) invertidos verticalmente\n",
    "    # para corresponder à orientação geográfica padrão (Norte no topo)\n",
    "    return ds['CMI'].data[::-1]"
   ]
  },
  {
   "cell_type": "markdown",
   "metadata": {},
   "source": [
    "Para definir os limites espaciais dos dados, utilizamos a função `read_function` para ler a primeira imagem e extrair os valores de latitude e longitude:"
   ]
  },
  {
   "cell_type": "code",
   "execution_count": null,
   "metadata": {},
   "outputs": [],
   "source": [
    "# Define os limites espaciais do domínio\n",
    "files = glob.glob('input/*.nc')\n",
    "\n",
    "# Verifica se arquivos foram baixados\n",
    "if not files:\n",
    "    print(\"Nenhum arquivo encontrado! Execute primeiro o download dos dados.\")\n",
    "else:\n",
    "    # Abre o primeiro arquivo para extrair coordenadas\n",
    "    ds = xr.open_dataset(files[0])\n",
    "    \n",
    "    # Extrai os limites de longitude e latitude do domínio\n",
    "    lon_min = float(ds['lon'].min().values)\n",
    "    lon_max = float(ds['lon'].max().values)\n",
    "    lat_min = float(ds['lat'].min().values)\n",
    "    lat_max = float(ds['lat'].max().values)\n",
    "    \n",
    "    print(f\"Limites do domínio:\")\n",
    "    print(f\"  Longitude: {lon_min:.2f}° a {lon_max:.2f}°\")\n",
    "    print(f\"  Latitude: {lat_min:.2f}° a {lat_max:.2f}°\")"
   ]
  },
  {
   "cell_type": "markdown",
   "metadata": {},
   "source": [
    "##### 4. Parâmetros (Name_list) <a class=\"anchor\" id=\"namelist\"></a>\n",
    "\n",
    "O dicionário `name_list` contém os parâmetros necessários para o algoritmo de rastreamento. Para este exemplo, utilizaremos parâmetros associados ao rastreamento de sistemas convectivos de mesoescala (SCM).\n",
    "\n",
    "Rastreamos os SCM usando dados de temperatura de brilho do sensor ABI e definimos:\n",
    "- **Limiares de temperatura**: de 235 K a 200 K (das temperaturas mais quentes para as mais frias)\n",
    "- **Área mínima do sistema**: 400 pixels (aproximadamente 10.000 km²) para o primeiro limiar\n",
    "- **Área mínima seguinte**: 100 pixels (aproximadamente 2.500 km²) para o segundo limiar\n",
    "\n",
    "**Explicação dos principais parâmetros**:"
   ]
  },
  {
   "cell_type": "code",
   "execution_count": null,
   "metadata": {},
   "outputs": [],
   "source": [
    "# Define o dicionário name_list com os parâmetros de rastreamento\n",
    "name_list = {}\n",
    "\n",
    "# === PARÂMETROS OBRIGATÓRIOS ===\n",
    "name_list['input_path'] = 'input/'  # Diretório dos arquivos de entrada\n",
    "name_list['output_path'] = 'output/'  # Diretório dos arquivos de saída\n",
    "\n",
    "# Limiares para rastreamento (temperaturas de brilho em Kelvin)\n",
    "# 235K: detecta núcleos convectivos moderados\n",
    "# 200K: detecta núcleos convectivos intensos (topos de nuvens muito frias)\n",
    "name_list['thresholds'] = [235, 200]\n",
    "\n",
    "# Tamanho mínimo de cada cluster individual (em pixels)\n",
    "# 400 pixels ≈ 10.000 km² para T ≤ 235K\n",
    "# 100 pixels ≈ 2.500 km² para T ≤ 200K\n",
    "name_list['min_cluster_size'] = [400, 100]\n",
    "\n",
    "# Operador para segmentação baseado nos limiares\n",
    "# '<=' significa: temperatura MENOR OU IGUAL aos limiares\n",
    "name_list['operator'] = '<='\n",
    "\n",
    "# Padrão de timestamp dos nomes dos arquivos GOES-19\n",
    "# Formato: OR_ABI-L2-CMIPF-M6C13_G19_s20241234567...\n",
    "name_list['timestamp_pattern'] = 'OR_ABI-L2-CMIPF-M6C13_G19_s%Y%j%H%M'\n",
    "name_list['pattern_position'] = [0, 38]  # Posição do timestamp no nome do arquivo\n",
    "\n",
    "# Intervalo de tempo entre imagens (em minutos)\n",
    "name_list['delta_time'] = 10\n",
    "\n",
    "# === PARÂMETROS ESPACIAIS ===\n",
    "name_list['lon_min'] = lon_min  # Longitude mínima do domínio\n",
    "name_list['lon_max'] = lon_max  # Longitude máxima do domínio\n",
    "name_list['lat_min'] = lat_min  # Latitude mínima do domínio\n",
    "name_list['lat_max'] = lat_max  # Latitude máxima do domínio\n",
    "\n",
    "# === PARÂMETROS DE CORREÇÃO VETORIAL ===\n",
    "# (conforme artigo: https://doi.org/10.3390/rs14215408)\n",
    "name_list['spl_correction'] = True  # Correção em eventos de divisão (splitting)\n",
    "name_list['mrg_correction'] = True  # Correção em eventos de fusão (merging)\n",
    "name_list['inc_correction'] = True  # Correção usando vetores de núcleo interno\n",
    "name_list['opt_correction'] = True  # Correção usando método de fluxo óptico\n",
    "name_list['elp_correction'] = True  # Correção usando método de elipse\n",
    "name_list['validation'] = True     # Validação dos métodos de correção\n",
    "\n",
    "print(\"Parâmetros configurados com sucesso!\")\n",
    "print(f\"Domínio: {lon_min:.1f}°-{lon_max:.1f}°W, {lat_min:.1f}°-{lat_max:.1f}°S\")\n",
    "print(f\"Limiares: {name_list['thresholds']} K\")\n",
    "print(f\"Áreas mínimas: {name_list['min_cluster_size']} pixels\")"
   ]
  },
  {
   "cell_type": "markdown",
   "metadata": {},
   "source": [
    "##### 5. Rotina de Rastreamento <a class=\"anchor\" id=\"track\"></a>\n",
    "\n",
    "A função `track` é a função principal para rastrear os sistemas convectivos usando o pacote pyfortracc. \n",
    "\n",
    "Esta função executa todo o processo de rastreamento, incluindo:\n",
    "1. **Feature Extraction**: Extrai características dos objetos detectados, como área, centroide, intensidade máxima, etc.\n",
    "2. **Spatial Operations**: Realiza operações espaciais para identificar e conectar objetos entre frames.\n",
    "3. **Linking**: Conecta objetos entre frames consecutivos baseado em proximidade e características\n",
    "4. **Concat**: Concatena os resultados em uma tabela de rastreamento.\n",
    "\n",
    "**Importante**: Esta operação pode levar vários minutos dependendo do número de imagens e da complexidade dos sistemas."
   ]
  },
  {
   "cell_type": "code",
   "execution_count": null,
   "metadata": {},
   "outputs": [],
   "source": [
    "# Importa a função principal de rastreamento do pyfortracc\n",
    "from pyfortracc import track"
   ]
  },
  {
   "cell_type": "code",
   "execution_count": null,
   "metadata": {},
   "outputs": [],
   "source": [
    "# Executa o rastreamento dos sistemas convectivos\n",
    "print(\"Iniciando o rastreamento...\")\n",
    "# Chama a função principal de rastreamento\n",
    "track(name_list, read_function)\n",
    "\n",
    "print(\"Rastreamento concluído com sucesso!\")\n",
    "print(\"Os resultados foram salvos no diretório:\", name_list['output_path'])"
   ]
  },
  {
   "cell_type": "markdown",
   "metadata": {},
   "source": [
    "##### 6. Tabela de Rastreamento <a class=\"anchor\" id=\"tracktable\"></a>\n",
    "\n",
    "A saída principal da função `track` é a **tabela de rastreamento**, que contém informações detalhadas sobre cada sistema convectivo rastreado ao longo do tempo.\n",
    "\n",
    "A tabela de rastreamento em multiplos arquivos Parquet (um para cada frame) contém colunas como:\n",
    "\n",
    "* **`timestamp`** (datetime64[us]): Informação temporal do cluster.  \n",
    "* **`uid`** (float64): Identificador único do cluster.  \n",
    "* **`iuid`** (float64): Identificador único interno do cluster.  \n",
    "* **`threshold_level`** (int64): Nível do limiar.  \n",
    "* **`threshold`** (float64): Limiar específico.  \n",
    "* **`status`** (object): Status da entidade (NEW, CON, SPL, MRG, SPL/MRG)  \n",
    "* **`u_, v_`** (float64): Componentes do vetor, além dos vetores oriundos dos métodos de correção, exemplo: `u_opt, v_opt` (método optical flow).\n",
    "* **`inside_clusters`** (object): Número de clusters internos.  \n",
    "* **`size`** (int64): Tamanho do cluster em pixels.  \n",
    "* **`min, mean, max, std`** (float64): Estatísticas descritivas.  \n",
    "* **`delta_time`** (timedelta64[us]): Variação temporal.  \n",
    "* **`file`** (object): Nome do arquivo associado.  \n",
    "* **`array_y, array_x`** (object): Coordenadas do array do cluster.  \n",
    "* **`vector_field`** (object): Campo vetorial associado.  \n",
    "* **`trajectory`** (object): Trajetória do cluster.  \n",
    "* **`geometry`** (object): Representação geométrica da fronteira do cluster.  \n",
    "* **`lifetime`** (int64): Vida útil do cluster em minutos."
   ]
  },
  {
   "cell_type": "markdown",
   "metadata": {},
   "source": [
    "Uma forma eficiente para carregar o rastreio é utilizando a biblioteca `duckdb`, que é eficiente para carregar os dados de rastreio e também permite a realização de consultas SQL com extensão espacial."
   ]
  },
  {
   "cell_type": "code",
   "execution_count": null,
   "metadata": {},
   "outputs": [],
   "source": [
    "# Importa duckdb para consulta eficiente de arquivos Parquet\n",
    "import duckdb\n",
    "\n",
    "# Conecta ao banco de dados em memória\n",
    "con = duckdb.connect(database=':memory:', read_only=False)\n",
    "\n",
    "# Instala e carrega a extensão espacial\n",
    "con.execute(\"INSTALL spatial;\")\n",
    "con.execute(\"LOAD spatial;\")"
   ]
  },
  {
   "cell_type": "markdown",
   "metadata": {},
   "source": [
    "Após criar a conexão e instalar a extensão espacial, carregamos os dados de rastreamento em uma tabela chamada `tracking`, que pode ser consultada usando SQL."
   ]
  },
  {
   "cell_type": "code",
   "execution_count": null,
   "metadata": {},
   "outputs": [],
   "source": [
    "# Carrega os dados de rastreamento em uma tabela chamada 'tracking'\n",
    "con.execute(f\"\"\"\n",
    "    CREATE OR REPLACE TABLE tracking AS\n",
    "    SELECT * FROM parquet_scan('output/track/trackingtable/*.parquet',\n",
    "                     union_by_name=True)\n",
    "\"\"\")"
   ]
  },
  {
   "cell_type": "markdown",
   "metadata": {},
   "source": [
    "Com a tabela carregada, você pode realizar consultas SQL para analisar os dados de rastreamento. Por exemplo, para exibir a quantidade de sistemas rastreados para o período de rastreio, você pode executar a seguinte consulta SQL:"
   ]
  },
  {
   "cell_type": "code",
   "execution_count": null,
   "metadata": {},
   "outputs": [],
   "source": [
    "# Exibe o total de sistemas rastreados no período de rastreio\n",
    "# A coluna 'uid' identifica cada sistema rastreado para o limiar 235K e pega a data de início e fim de rastreio\n",
    "\n",
    "query = \"\"\"\n",
    "SELECT\n",
    "    COUNT(DISTINCT uid) AS total_sistemas_235K,\n",
    "    MIN(timestamp) AS inicio_rastreio,\n",
    "    MAX(timestamp) AS fim_rastreio\n",
    "FROM tracking\n",
    "WHERE threshold = 235\n",
    "\"\"\"\n",
    "\n",
    "# Executa a consulta e armazena o resultado em uma lista\n",
    "result = con.execute(query).fetchall()\n",
    "\n",
    "print(\"Total de sistemas rastreados (T ≤ 235K):\", result[0][0])\n",
    "print(\"Período de rastreio: De\", result[0][1], \"até\", result[0][2])"
   ]
  },
  {
   "cell_type": "markdown",
   "metadata": {},
   "source": [
    "##### 7. Visualização de Rastreamento <a class=\"anchor\" id=\"visualization\"></a>\n",
    "\n",
    "O pyfortracc oferece poderosas ferramentas de visualização para examinar os resultados do rastreamento. A função `plot_animation` permite criar animações que mostram:\n",
    "\n",
    "- **Evolução temporal**: Como os sistemas se movem e evoluem ao longo do tempo\n",
    "- **Dados de temperatura**: Visualização dos dados de infravermelho de fundo\n",
    "- **Sistemas rastreados**: Contornos e identificação dos sistemas detectados\n",
    "- **Trajetórias**: Caminhos percorridos pelos sistemas ao longo do tempo\n",
    "- **Informações do sistema**: UID, tempo de vida e outras características\n",
    "\n",
    "Para criar a animação, precisamos configurar os parâmetros de visualização, incluindo dimensões do gráfico, projeção e extensão geográfica:"
   ]
  },
  {
   "cell_type": "code",
   "execution_count": null,
   "metadata": {},
   "outputs": [],
   "source": [
    "# Importa as bibliotecas necessárias para visualização\n",
    "from pyfortracc import plot_animation\n",
    "import numpy as np"
   ]
  },
  {
   "cell_type": "code",
   "execution_count": null,
   "metadata": {},
   "outputs": [],
   "source": [
    "# Cria animação do rastreamento\n",
    "print(\"Gerando animação do rastreamento...\")\n",
    "\n",
    "# Chama a função de plotagem de animação\n",
    "plot_animation(\n",
    "    # === CONFIGURAÇÕES BÁSICAS ===\n",
    "    read_function=read_function,                    # Função de leitura dos dados\n",
    "    figsize=(8, 6),                               # Tamanho da figura (largura, altura)\n",
    "    name_list=name_list,                           # Dicionário com parâmetros\n",
    "    \n",
    "    # === CONFIGURAÇÕES TEMPORAIS ===\n",
    "    start_timestamp=result[0][1],  # Timestamp inicial\n",
    "    end_timestamp=result[0][2],    # Timestamp final\n",
    "\n",
    "    # === CONFIGURAÇÕES DE VISUALIZAÇÃO ===\n",
    "    info_col_name=False,                           # Não mostra nome das colunas de info\n",
    "    cbar_title='Temperatura de Brilho (K)',       # Título da barra de cores\n",
    "    trajectory=True,                               # Mostra trajetórias dos sistemas\n",
    "    smooth_trajectory=True,                        # Suaviza as trajetórias\n",
    "    \n",
    "    # === CONFIGURAÇÕES DE CORES ===\n",
    "    cmap='turbo',                                  # Mapa de cores (turbo: azul=frio, vermelho=quente)\n",
    "    min_val=160,                                   # Valor mínimo para escala de cores (K)\n",
    "    max_val=235,                                   # Valor máximo para escala de cores (K)\n",
    "    nan_value=235,                                 # Valor para pixels sem dados\n",
    "    nan_operation=np.greater_equal,                # Operação para identificar NaN\n",
    "    \n",
    "    # === CONFIGURAÇÕES DOS CONTORNOS E INFORMAÇÕES ===\n",
    "    bound_color='blue',                            # Cor dos contornos dos sistemas\n",
    "    info_cols=['uid'],                             # Colunas de informação a exibir\n",
    "    \n",
    "    # === CONFIGURAÇÕES DE PERFORMANCE ===\n",
    "    parallel=False                                 # Processamento serial (mais estável)\n",
    ")"
   ]
  },
  {
   "cell_type": "markdown",
   "metadata": {},
   "source": [
    "##### 8. Nowcasting / Real-Time Tracking <a class=\"anchor\" id=\"nowcasting\"></a>\n",
    "\n",
    "Uma aplicação interessante do pyfortracc é o rastreamento em tempo real (real-time tracking) de sistemas atmosféricos. Isso permite monitorar e prever a evolução de fenômenos como frentes frias, tempestades e outros eventos climáticos em alta resolução temporal.\n",
    "\n",
    "Para complementar a visualização do rastreio, podemos detectar em quais municípios os sistemas rastreados estão localizados. Para isso, utilizamos o pacote `geobr` para carregar as geometrias dos municípios do Brasil.\n",
    "\n",
    "Primeiro, instalaremos o pacote `geobr`:"
   ]
  },
  {
   "cell_type": "code",
   "execution_count": null,
   "metadata": {},
   "outputs": [],
   "source": [
    "# Comando para instalação da biblioteca geobr\n",
    "!python -m pip install -qqq -U geobr > /dev/null 2>&1 && echo \"✅ geobr instalado com sucesso!\" || echo \"❌ Erro na instalação\""
   ]
  },
  {
   "cell_type": "markdown",
   "metadata": {},
   "source": [
    "Caso a instalação seja bem-sucedida, você verá a mensagem \"✅ geobr instalado com sucesso!\". Em seguida podemos importar a biblioteca:"
   ]
  },
  {
   "cell_type": "code",
   "execution_count": null,
   "metadata": {},
   "outputs": [],
   "source": [
    "# Importa a biblioteca geobr\n",
    "import geobr"
   ]
  },
  {
   "cell_type": "markdown",
   "metadata": {},
   "source": [
    "Em seguida, Carregamos todas as geometrias dos municípios do Brasil usando o `geobr`:"
   ]
  },
  {
   "cell_type": "code",
   "execution_count": null,
   "metadata": {},
   "outputs": [],
   "source": [
    "# Carrega todas as geometrias dos municípios do Brasil para o ano de 2020\n",
    "br_municipios = geobr.read_municipality(code_muni=\"all\", year=2020)"
   ]
  },
  {
   "cell_type": "markdown",
   "metadata": {},
   "source": [
    "Abaixo estão as primeiras linhas do DataFrame `br_municipios`, que contém informações sobre os municípios brasileiros, incluindo códigos, nomes e geometrias:"
   ]
  },
  {
   "cell_type": "code",
   "execution_count": null,
   "metadata": {},
   "outputs": [],
   "source": [
    "# Mostra as primeiras linhas do DataFrame com os municípios\n",
    "br_municipios.head()"
   ]
  },
  {
   "cell_type": "markdown",
   "metadata": {},
   "source": [
    "Agora com os dados de municípios carregados, podemos realizar uma análise espacial para identificar quais municípios estão com SCMs ativos. Isso pode ser feito utilizando operações de interseção espacial entre as geometrias dos sistemas rastreados e as geometrias dos municípios."
   ]
  },
  {
   "cell_type": "markdown",
   "metadata": {},
   "source": [
    "#### 8.1. Preparação dos Dados Geométricos\n",
    "\n",
    "Para realizar operações espaciais no DuckDB, precisamos converter as geometrias dos municípios para o formato WKT (Well-Known Text) e registrá-las no banco de dados:"
   ]
  },
  {
   "cell_type": "code",
   "execution_count": null,
   "metadata": {},
   "outputs": [],
   "source": [
    "# Converte a geometria de br_municipios para WKT (string)\n",
    "br_municipios[\"geometry\"] = br_municipios[\"geometry\"].apply(lambda g: g.wkt)\n",
    "\n",
    "# Registra no DuckDB\n",
    "con.register(\"br_municipios\", br_municipios)"
   ]
  },
  {
   "cell_type": "markdown",
   "metadata": {},
   "source": [
    "#### 8.2. Interseção Espacial - Clusters vs. Municípios\n",
    "\n",
    "Agora realizaremos uma consulta SQL que utiliza a função espacial `ST_Intersects` para identificar quais municípios estão sendo interceptados pelos sistemas convectivos rastreados. \n",
    "\n",
    "A consulta abaixo:\n",
    "- Seleciona dados do último timestamp disponível\n",
    "- Filtra apenas sistemas com temperatura ≤ 235K\n",
    "- Realiza interseção entre geometrias dos clusters e municípios\n",
    "- Retorna informações dos municípios afetados e características dos sistemas"
   ]
  },
  {
   "cell_type": "code",
   "execution_count": null,
   "metadata": {},
   "outputs": [],
   "source": [
    "# Query usando ST_GeomFromText para ambas as tabelas\n",
    "sql = f\"\"\"\n",
    "SELECT \n",
    "    m.name_muni,\n",
    "    m.name_state,\n",
    "    t.uid,\n",
    "    t.min,\n",
    "    t.lifetime,\n",
    "    ST_AsText(ST_GeomFromText(t.geometry)) AS cluster_geometry,\n",
    "    ST_AsText(ST_GeomFromText(m.geometry)) AS municipio_geometry\n",
    "FROM tracking t\n",
    "JOIN br_municipios m\n",
    "    ON ST_Intersects(\n",
    "        ST_GeomFromText(t.geometry),\n",
    "        ST_GeomFromText(m.geometry)\n",
    "    )\n",
    "WHERE t.threshold = 235 AND t.timestamp = '{result[0][2]}'\n",
    "\"\"\"\n",
    "\n",
    "df_municipios_ativos = con.execute(sql).fetchdf()"
   ]
  },
  {
   "cell_type": "markdown",
   "metadata": {},
   "source": [
    "#### 8.3. Análise Estatística dos Municípios com SCM ativos <a class=\"anchor\" id=\"spatial-analysis\"></a>\n",
    "\n",
    "Com os dados da interseção espacial, podemos analisar estatísticas interessantes sobre os municípios que estão com SCMs ativos:"
   ]
  },
  {
   "cell_type": "code",
   "execution_count": null,
   "metadata": {},
   "outputs": [],
   "source": [
    "print(f\"Total de municípios ativos por sistemas com T ≤ 235K em {result[0][2]}: {df_municipios_ativos['name_muni'].nunique()}\")\n",
    "print(f\"Munícipios com sistemas convectivos mais duradouros (maior lifetime):\\n\\n {df_municipios_ativos.sort_values(by='lifetime', ascending=False).head(10)[['name_muni', 'name_state', 'lifetime', 'min']]}\")"
   ]
  },
  {
   "cell_type": "markdown",
   "metadata": {},
   "source": [
    "#### 8.4. Preparação de Dados Geoespaciais para Visualização\n",
    "\n",
    "Para criar visualizações cartográficas dos resultados, precisamos converter os dados em GeoDataFrames (estruturas geoespaciais do GeoPandas) e carregar as geometrias dos estados brasileiros:"
   ]
  },
  {
   "cell_type": "code",
   "execution_count": null,
   "metadata": {},
   "outputs": [],
   "source": [
    "import geopandas as gpd\n",
    "\n",
    "# Geometria dos clusters rastreados\n",
    "gdf_municipios_ativos = gpd.GeoDataFrame(\n",
    "    df_municipios_ativos,\n",
    "    geometry=gpd.GeoSeries.from_wkt(df_municipios_ativos[\"municipio_geometry\"]),\n",
    "    crs=\"EPSG:4326\"\n",
    ")\n",
    "\n",
    "# Geometria dos municípios\n",
    "gdf_clusters_ativos = gpd.GeoDataFrame(\n",
    "    df_municipios_ativos,\n",
    "    geometry=gpd.GeoSeries.from_wkt(df_municipios_ativos[\"cluster_geometry\"]),\n",
    "    crs=\"EPSG:4326\"\n",
    ")\n",
    "\n",
    "# Carrega as geometrias dos estados do Brasil para o ano de 2020\n",
    "estados_brasil = geobr.read_state(year=2020)"
   ]
  },
  {
   "cell_type": "markdown",
   "metadata": {},
   "source": [
    "#### 8.5. Mapa dos Municípios Afetados por Sistemas Convectivos\n",
    "\n",
    "Importamos as bibliotecas necessárias para criar mapas com projeção cartográfica adequada:"
   ]
  },
  {
   "cell_type": "code",
   "execution_count": null,
   "metadata": {},
   "outputs": [],
   "source": [
    "# Importa bibliotecas para visualização\n",
    "import matplotlib.pyplot as plt\n",
    "import cartopy.crs as ccrs\n",
    "from cartopy import feature as cfeature"
   ]
  },
  {
   "cell_type": "markdown",
   "metadata": {},
   "source": [
    "Finalmente, criamos um mapa que mostra:\n",
    "\n",
    "- **Base cartográfica**: Relevo, oceanos, fronteiras e estados brasileiros\n",
    "- **Municípios afetados**: Municípios interceptados pelos sistemas rastreados\n",
    "- **Clusters convectivos**: Contornos em vermelho dos sistemas detectados (T ≤ 235K)\n",
    "- **Contexto geográfico**: Localização precisa sobre o território brasileiro\n",
    "\n",
    "Este tipo de visualização é essencial para:\n",
    "- **Monitoramento meteorológico**: Identificação rápida de áreas de risco\n",
    "- **Comunicação de alertas**: Informação clara para autoridades locais\n",
    "- **Análise espacial**: Compreensão da distribuição geográfica dos fenômenos"
   ]
  },
  {
   "cell_type": "code",
   "execution_count": null,
   "metadata": {},
   "outputs": [],
   "source": [
    "fig, ax = plt.subplots(figsize=(10, 10), subplot_kw={'projection': ccrs.PlateCarree()})\n",
    "ax.set_title(f'Municípios com sistemas convectivos ativos (T ≤ 235K) em {result[0][2]} GMT', fontsize=14)\n",
    "ax.set_extent([lon_min, lon_max, lat_min, lat_max], crs=ccrs.PlateCarree())\n",
    "ax.add_feature(cfeature.LAND, zorder=0, edgecolor='black', facecolor='lightgray')\n",
    "ax.add_feature(cfeature.OCEAN, zorder=0, edgecolor='black', facecolor='lightblue')\n",
    "ax.add_feature(cfeature.COASTLINE, zorder=1)\n",
    "ax.add_feature(cfeature.BORDERS, zorder=1)\n",
    "ax.add_feature(cfeature.LAKES, zorder=1, edgecolor='black', facecolor='lightblue')\n",
    "\n",
    "estados_brasil.boundary.plot(ax=ax, edgecolor='black', linewidth=1, zorder=2)\n",
    "gdf_clusters_ativos.boundary.plot(ax=ax, edgecolor='red', linewidth=1, zorder=4, label='Clusters Convectivos (T ≤ 235K)')\n",
    "gdf_municipios_ativos.boundary.plot(ax=ax, edgecolor='blue', linewidth=1, zorder=3, label='Municípios Afetados')\n",
    "\n",
    "# Adiciona legendas\n",
    "plt.legend(loc='upper right')\n",
    "plt.show()"
   ]
  },
  {
   "cell_type": "markdown",
   "metadata": {},
   "source": [
    "### 9. Conclusão e Próximos Passos\n",
    "\n",
    "**Parabéns!** Você concluiu com sucesso o segundo exemplo do pyfortracc. Neste tutorial, você aprendeu:\n",
    "\n",
    "- **Instalação de dependências** adicionais (goesgcp, geobr)\n",
    "- **Download de dados reais** do satélite GOES-19\n",
    "- **Processamento de dados de infravermelho** para rastreamento de sistemas convectivos\n",
    "- **Configuração de parâmetros avançados** incluindo correções vetoriais\n",
    "- **Análise de sistemas meteorológicos reais** usando dados de temperatura de brilho\n",
    "- **Visualização de trajetórias** de sistemas convectivos sobre o Brasil\n",
    "- **Análise espacial com DuckDB** para identificar municípios com SCMs ativos\n",
    "- **Criação de mapas cartográficos** mostrando sistemas e municípios impactados\n",
    "\n",
    "### Recursos Adicionais\n",
    "\n",
    "- [Documentação Oficial](https://fortracc.github.io/pyfortracc/)\n",
    "- [Repositório GitHub](https://github.com/fortracc/pyfortracc)\n",
    "- [Suporte](mailto:fortracc.project@inpe.br)\n",
    "- [Artigo sobre Métodos Vetoriais](https://doi.org/10.3390/rs14215408)\n",
    "\n",
    "### Dicas para Aplicações Operacionais\n",
    "\n",
    "Para usar este exemplo em aplicações operacionais:\n",
    "\n",
    "1. **Automatize o download**: Configure scripts para baixar dados regularmente\n",
    "2. **Ajuste parâmetros**: Adapte thresholds e áreas mínimas para sua região de interesse\n",
    "3. **Monitore performance**: Otimize para processamento em tempo real\n",
    "4. **Valide resultados**: Compare com observações meteorológicas locais\n",
    "5. **Integre com outros dados**: Combine com radar, modelos numéricos, etc.\n",
    "6. **Configure alertas**: Use análise espacial para emitir avisos automáticos\n",
    "7. **Desenvolva APIs**: Crie serviços web para disponibilizar resultados em tempo real"
   ]
  }
 ],
 "metadata": {
  "kernelspec": {
   "display_name": "pyfortracc",
   "language": "python",
   "name": "python3"
  },
  "language_info": {
   "codemirror_mode": {
    "name": "ipython",
    "version": 3
   },
   "file_extension": ".py",
   "mimetype": "text/x-python",
   "name": "python",
   "nbconvert_exporter": "python",
   "pygments_lexer": "ipython3",
   "version": "3.12.11"
  }
 },
 "nbformat": 4,
 "nbformat_minor": 2
}
