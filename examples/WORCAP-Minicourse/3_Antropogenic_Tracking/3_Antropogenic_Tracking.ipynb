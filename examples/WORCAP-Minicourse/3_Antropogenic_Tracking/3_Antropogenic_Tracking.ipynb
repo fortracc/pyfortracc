{
 "cells": [
  {
   "cell_type": "markdown",
   "id": "45926b2f",
   "metadata": {},
   "source": [
    "<div align=\"center\"; span style=\"color:#336699\"><b><h2>Minicurso pyForTraCC </h2></b></div>\n",
    "<div align=\"center\"; span style=\"color:#336699\"><b><h3>3. Rastreamento de Mudanças Antropogênicas com Dados do MapBiomas</h3></b></div>\n",
    "<hr style=\"border:2px solid #0077b9;\">\n",
    "<br/>\n",
    "<div style=\"text-align: center;font-size: 90%;\">\n",
    "   <sup>Autor: <a href=\"https://www.linkedin.com/in/helvecio-leal/\"> Helvécio B. Leal Neto, <i class=\"fab fa-lg fa-orcid\" style=\"color: #a6ce39\"></i></a></sup><t>&nbsp;</t> \n",
    "   <br/><br/>\n",
    "    National Institute for Space Research (INPE)\n",
    "    <br/>\n",
    "    Avenida dos Astronautas, 1758, Jardim da Granja, São José dos Campos, SP 12227-010, Brazil\n",
    "    <br/><br/>\n",
    "    Contato: <a href=\"mailto:fortracc.project@inpe.br\">fortracc.project@inpe.br</a>\n",
    "    <br/><br/>\n",
    "    Última Atualização: Set 8, 2025\n",
    "</div>\n",
    "\n",
    "<br/>\n",
    "\n",
    "<div style=\"text-align: center; margin: 0 auto; width: 80ch;\">\n",
    "<b>Resumo.</b> Este notebook apresenta uma aplicação do <a href=\"https://github.com/fortracc/pyfortracc\">pyfortracc</a> para rastreamento de mudanças no uso e cobertura da terra usando dados do MapBiomas. O tutorial demonstra como aplicar algoritmos de rastreamento tradicionalmente usados para sistemas meteorológicos na análise de expansão de áreas antropogênicas ao longo de décadas. Inclui download automático de dados do MapBiomas, processamento de classificações de uso da terra, configuração de parâmetros específicos para rastreamento temporal de longo prazo, e visualizações que mostram a evolução espacial de atividades humanas - fornecendo uma ferramenta poderosa para estudos de mudanças ambientais e planejamento territorial.\n",
    "</div>\n",
    "\n",
    "<div align=\"center\">\n",
    "\n",
    "[![Open in Colab](https://colab.research.google.com/assets/colab-badge.svg)](https://colab.research.google.com/github/fortracc/pyfortracc/blob/main/examples/WORCAP-Minicourse/3_Antropogenic_Tracking/3_Antropogenic_Tracking.ipynb) \n",
    "\n",
    "</div>\n",
    "<br/>"
   ]
  },
  {
   "cell_type": "markdown",
   "id": "6c22d5ec",
   "metadata": {},
   "source": [
    "### Roteiro\n",
    " [1. Instalação de Dependências](#install)<br>\n",
    " [2. Download de Dados do MapBiomas](#download)<br>\n",
    " [3. Função de Leitura e Processamento](#data)<br>\n",
    " [4. Configuração de Parâmetros](#namelist)<br>\n",
    " [5. Execução do Rastreamento](#track)<br>\n",
    " [6. Análise da Tabela de Rastreamento](#tracktable)<br>\n",
    " [7. Análise de Crescimento](#growth-analysis)<br>\n",
    " [8. Visualização Temporal](#visualization)<br>\n",
    " [9. Conclusão](#conclusion)<br>"
   ]
  },
  {
   "cell_type": "markdown",
   "id": "12d1cfd8",
   "metadata": {},
   "source": [
    "#### 1. **Instalação de Dependências** <a class=\"anchor\" id=\"install\"></a>\n",
    "\n",
    "Para este exemplo, utilizaremos dados raster do MapBiomas, que requerem a biblioteca GDAL para processamento eficiente. O GDAL (Geospatial Data Abstraction Library) é uma biblioteca fundamental para manipulação de dados geoespaciais.\n",
    "\n",
    "**Importante**: A instalação do GDAL pode levar alguns minutos dependendo do sistema."
   ]
  },
  {
   "cell_type": "code",
   "execution_count": null,
   "id": "f28e04e8",
   "metadata": {},
   "outputs": [],
   "source": [
    "# Instala o GDAL\n",
    "!sudo apt install gdal-bin -y > /dev/null 2>&1 && echo \"✅ gdal instalado com sucesso!\" || echo \"❌ Erro na instalação do gdal\""
   ]
  },
  {
   "cell_type": "markdown",
   "id": "e80564ea",
   "metadata": {},
   "source": [
    "Além disso, instalaremos o `pyfortracc` para realizar o rastreamento de mudanças."
   ]
  },
  {
   "cell_type": "code",
   "execution_count": null,
   "id": "cdf340f2",
   "metadata": {},
   "outputs": [],
   "source": [
    "# Comando para instalação da ultima versão estável do pyfortracc\n",
    "!python -m pip install -qqq -U pyfortracc > /dev/null 2>&1 && echo \"✅ pyfortracc instalado com sucesso!\" || echo \"❌ Erro na instalação\""
   ]
  },
  {
   "cell_type": "markdown",
   "id": "8381bcc0",
   "metadata": {},
   "source": [
    "#### 2. **Download de Dados do MapBiomas** <a class=\"anchor\" id=\"download\"></a>\n",
    "\n",
    "O [MapBiomas](https://mapbiomas.org/) é uma iniciativa que mapeia anualmente a cobertura e uso da terra no Brasil desde 1985. Para este tutorial, vamos baixar dados de uma região específica da Amazônia e processar as classificações de uso da terra.\n",
    "\n",
    "A função abaixo utiliza o GDAL para:\n",
    "- **Baixar dados diretamente da nuvem**: Acesso aos dados do MapBiomas no Google Cloud Storage\n",
    "- **Recortar área de interesse**: Definir uma bounding box específica\n",
    "- **Redimensionar dados**: Padronizar resolução para 1024x1024 pixels\n",
    "- **Processamento paralelo**: Acelerar download de múltiplos anos\n",
    "\n",
    "**Configuração da Área de Estudo**:\n",
    "- **Região**: Área na Amazônia (Pará)\n",
    "- **Período**: 1985-2022 (38 anos de dados)\n",
    "- **Resolução**: Aproximadamente 30 metros por pixel"
   ]
  },
  {
   "cell_type": "code",
   "execution_count": null,
   "id": "6d047f7b",
   "metadata": {},
   "outputs": [],
   "source": [
    "import pathlib\n",
    "from concurrent.futures import ThreadPoolExecutor, as_completed\n",
    "from tqdm import tqdm\n",
    "import subprocess\n",
    "\n",
    "def download_mapbiomas(url_template: str, bbox: str, start_year: int, end_year: int, max_workers: int = 4):\n",
    "    # Cria o diretório de saída se não existir\n",
    "    pathlib.Path('input').mkdir(parents=True, exist_ok=True)\n",
    "    # Função interna para baixar e processar um único ano\n",
    "    def _download(year: int):\n",
    "        url = url_template.format(year)\n",
    "        out_file = f\"input/{year}.tif\"\n",
    "        gdal_command = [\n",
    "            \"gdal_translate\",\n",
    "            f\"/vsicurl/{url}\",\n",
    "            out_file,\n",
    "            \"-b\", \"1\",\n",
    "            \"-projwin\", *bbox.split(),\n",
    "            \"-of\", \"GTiff\",\n",
    "            \"-outsize\", \"1024\", \"1024\",\n",
    "        ]\n",
    "        subprocess.run(gdal_command, stdout=subprocess.DEVNULL, stderr=subprocess.DEVNULL, check=True)\n",
    "        return year\n",
    "    # Lista de anos a serem processados\n",
    "    years = list(range(start_year, end_year + 1))\n",
    "    # Uso de ThreadPoolExecutor para downloads paralelos\n",
    "    with tqdm(total=len(years), desc=\"Downloading & Processing\") as pbar:\n",
    "        with ThreadPoolExecutor(max_workers=max_workers) as executor:\n",
    "            futures = {executor.submit(_download, y): y for y in years}\n",
    "            for future in as_completed(futures):\n",
    "                try:\n",
    "                    _ = future.result()\n",
    "                except Exception as e:\n",
    "                    print(f\"Erro no ano {futures[future]}: {e}\")\n",
    "                pbar.update(1)"
   ]
  },
  {
   "cell_type": "markdown",
   "id": "7b48ce5b",
   "metadata": {},
   "source": [
    "**Executando o Download**:\n",
    "\n",
    "O processo abaixo baixa os dados do MapBiomas para o período 1985-2022. Os parâmetros definidos são:\n",
    "\n",
    "- **URL template**: Padrão de URL do MapBiomas com placeholder para o ano\n",
    "- **Bounding box**: `-55 -3.54 -54 -4.46` (oeste, norte, leste, sul)\n",
    "- **Workers**: 10 downloads paralelos para acelerar o processo\n",
    "\n",
    "**Importante**: O download pode levar entre 5-15 minutos dependendo da conexão com a internet."
   ]
  },
  {
   "cell_type": "code",
   "execution_count": null,
   "id": "8cc1f7a6",
   "metadata": {},
   "outputs": [],
   "source": [
    "# Download e processa os dados do MapBiomas para a área e período especificados\n",
    "url = \"https://storage.googleapis.com/mapbiomas-public/initiatives/brasil/collection_8/lclu/coverage/brasil_coverage_{}.tif\"\n",
    "bbox = \"-55 -3.54 -54 -4.46\"  # lonmin latmax lonmax latmin\n",
    "download_mapbiomas(url, bbox, 1985, 2022, max_workers=10)"
   ]
  },
  {
   "cell_type": "markdown",
   "id": "656c4b0f",
   "metadata": {},
   "source": [
    "Após o download, os dados serão armazenados na pasta `input`. E em seguida importamos a biblioteca `pyfortracc` para o rastreamento."
   ]
  },
  {
   "cell_type": "code",
   "execution_count": null,
   "id": "396f821e",
   "metadata": {},
   "outputs": [],
   "source": [
    "# Importa o pyfortracc e mostra a versão instalada\n",
    "import pyfortracc\n",
    "print('pyFortracc version', pyfortracc.__version__)"
   ]
  },
  {
   "cell_type": "markdown",
   "id": "1c6710f1",
   "metadata": {},
   "source": [
    "#### 3. **Função de Leitura e Processamento** <a class=\"anchor\" id=\"data\"></a>\n",
    "\n",
    "A função `read_function` é responsável por ler e processar os dados do MapBiomas. Diferentemente dos exemplos anteriores que trabalhavam com dados meteorológicos, aqui processamos classificações de uso da terra.\n",
    "\n",
    "**Processo de Classificação**:\n",
    "\n",
    "1. **Leitura do raster**: Carrega dados de classificação de uso da terra\n",
    "2. **Inversão vertical**: Corrige orientação dos dados para padrão geográfico\n",
    "3. **Máscara antropogênica**: Identifica áreas de atividade humana baseada na [legenda do MapBiomas](https://brasil.mapbiomas.org/wp-content/uploads/sites/4/2023/08/EN__Codigos_da_legenda_Colecao_7.pdf)\n",
    "\n",
    "**Classes Antropogênicas Incluídas**:\n",
    "- **Agricultura**: Culturas temporárias e permanentes\n",
    "- **Pecuária**: Pastagens e áreas de criação\n",
    "- **Urbano**: Áreas urbanizadas e infraestrutura\n",
    "- **Mineração**: Atividades de extração mineral\n",
    "- **Outros**: Outras atividades humanas identificadas pelo MapBiomas"
   ]
  },
  {
   "cell_type": "code",
   "execution_count": null,
   "id": "c7bdf5fb",
   "metadata": {},
   "outputs": [],
   "source": [
    "import rasterio\n",
    "import numpy as np\n",
    "\n",
    "def read_function(path):\n",
    "\t# Lê o arquivo raster\n",
    "\twith rasterio.open(path) as src:\n",
    "\t\t# Lê a banda 1 e inverte a matriz verticalmente\n",
    "\t\tdata = src.read(1)[::-1]\n",
    "\t# Mascara antropogênica segundo a legenda do MapBiomas https://brasil.mapbiomas.org/wp-content/uploads/sites/4/2023/08/EN__Codigos_da_legenda_Colecao_7.pdf\n",
    "\tantropogenic_class = [14,15,18,19,39,20,40,62,41,36,46,47,48,9,21]\n",
    "\t# Cria uma máscara binária: 1 para áreas antropogênicas, 0 para outras\n",
    "\tantropogenic_data = np.where(np.isin(data, antropogenic_class), 1, 0)\n",
    "\treturn antropogenic_data"
   ]
  },
  {
   "cell_type": "markdown",
   "id": "f0cf5e56",
   "metadata": {},
   "source": [
    "**Teste da Função de Leitura**:\n",
    "\n",
    "Vamos testar a função de leitura com os dados de 1985 para verificar se o processamento está funcionando corretamente. O resultado deve ser uma matriz binária onde:\n",
    "- **1**: Representa áreas antropogênicas (atividade humana)\n",
    "- **0**: Representa áreas naturais (floresta, água, etc.)"
   ]
  },
  {
   "cell_type": "code",
   "execution_count": null,
   "id": "ee49b861",
   "metadata": {},
   "outputs": [],
   "source": [
    "read_function('input/1985.tif')"
   ]
  },
  {
   "cell_type": "markdown",
   "id": "822e99cb",
   "metadata": {},
   "source": [
    "#### 4. **Configuração de Parâmetros** <a class=\"anchor\" id=\"namelist\"></a>\n",
    "\n",
    "Para rastreamento de mudanças antropogênicas, precisamos ajustar os parâmetros do pyfortracc para escalas temporais muito maiores que as utilizadas em meteorologia. Enquanto sistemas meteorológicos evoluem em horas/dias, mudanças no uso da terra ocorrem ao longo de anos/décadas.\n",
    "\n",
    "**Parâmetros Específicos para Uso da Terra**:\n",
    "\n",
    "- **Escala temporal**: 1 ano entre observações (vs. 10 minutos em meteorologia)\n",
    "- **Delta time**: 365 dias (vs. minutos em exemplos meteorológicos)\n",
    "- **Tolerância temporal**: 1 dia para acomodar variações de processamento\n",
    "- **Sobreposição mínima**: 5% para conectar áreas que se expandem gradualmente\n",
    "- **Tamanho mínimo**: 5 pixels para filtrar ruído de classificação\n",
    "\n",
    "**Método de Clusterização**:\n",
    "- **ndimage**: Otimizado para dados raster de uso da terra\n",
    "- **Operador ==**: Detecta presença de atividade antropogênica (valor = 1)"
   ]
  },
  {
   "cell_type": "code",
   "execution_count": null,
   "id": "9dec6648",
   "metadata": {},
   "outputs": [],
   "source": [
    "# Configurações para o rastreamento\n",
    "name_list = {}\n",
    "name_list['input_path'] = 'input/' # Diretório de entrada\n",
    "name_list['output_path'] = 'output/' # Diretório de saída\n",
    "name_list['thresholds'] = [1] # Limiares para detecção\n",
    "name_list['min_cluster_size'] = [5] # Tamanho mínimo dos clusters\n",
    "name_list['operator'] = '==' # Operador para comparação\n",
    "name_list['timestamp_pattern'] = '%Y.tif' # Padrão de timestamp nos arquivos\n",
    "name_list['delta_time'] = 60 * 24 * 365 # Delta de tempo máximo entre detecções (em minutos)\n",
    "name_list['delta_tolerance'] = 60 * 24 # Tolerância para delta de tempo + 1 dia (em minutos)\n",
    "name_list['min_overlap'] = 5 # Sobreposição mínima entre detecções (em porcentagem)\n",
    "name_list['cluster_method'] = 'ndimage' # Método de clusterização\n",
    "name_list['opt_correction'] = True # Correção opcional\n",
    "name_list['validation'] = True # Aplica validação\n",
    "\n",
    "## -- CONFIGURAÇÕES DE DIMENSÕES --\n",
    "name_list['lon_min'] = -55.0 # Limites geográficos\n",
    "name_list['lon_max'] = -54.0 # Limites geográficos\n",
    "name_list['lat_min'] = -4.46 # Limites geográficos\n",
    "name_list['lat_max'] = -3.54 # Limites geográficos"
   ]
  },
  {
   "cell_type": "markdown",
   "id": "9fc79d74",
   "metadata": {},
   "source": [
    "#### 5. **Execução do Rastreamento** <a class=\"anchor\" id=\"track\"></a>\n",
    "\n",
    "Agora executamos o rastreamento das mudanças antropogênicas ao longo de 38 anos (1985-2022). Este processo irá:\n",
    "\n",
    "1. **Detectar áreas antropogênicas** em cada ano\n",
    "2. **Conectar áreas relacionadas** entre anos consecutivos\n",
    "3. **Rastrear expansão/contração** de atividades humanas\n",
    "4. **Identificar novos focos** de desenvolvimento\n",
    "5. **Gerar trajetórias temporais** de mudanças no uso da terra\n",
    "\n",
    "**Importante**: Este processamento pode levar vários minutos devido ao volume de dados (38 anos × 1024² pixels)."
   ]
  },
  {
   "cell_type": "code",
   "execution_count": null,
   "id": "35d205aa",
   "metadata": {},
   "outputs": [],
   "source": [
    "# Executa o rastreamento com as configurações definidas\n",
    "pyfortracc.track(name_list, read_function, parallel=True)"
   ]
  },
  {
   "cell_type": "markdown",
   "id": "8bf28231",
   "metadata": {},
   "source": [
    "#### 6. **Análise da Tabela de Rastreamento** <a class=\"anchor\" id=\"tracktable\"></a>\n",
    "\n",
    "A tabela de rastreamento contém informações detalhadas sobre cada área antropogênica rastreada ao longo do tempo. Para análises de uso da terra, as colunas mais relevantes são:\n",
    "\n",
    "- **`uid`**: Identificador único de cada área antropogênica rastreada\n",
    "- **`timestamp`**: Ano da observação\n",
    "- **`size`**: Tamanho da área em pixels\n",
    "- **`geometry`**: Contorno geográfico da área\n",
    "- **`lifetime`**: Duração total de atividade (em anos)\n",
    "- **`status`**: Status da área (NEW=nova, CON=contínua, SPL=divisão, MRG=fusão)\n",
    "\n",
    "Vamos carregar e examinar os resultados do rastreamento:"
   ]
  },
  {
   "cell_type": "code",
   "execution_count": null,
   "id": "75790afc",
   "metadata": {},
   "outputs": [],
   "source": [
    "import pandas as pd\n",
    "import glob\n",
    "tracking_files = sorted(glob.glob(name_list['output_path'] + '/track/trackingtable/*.parquet'))\n",
    "tracking_table = pd.concat(pd.read_parquet(f) for f in tracking_files)\n",
    "display(tracking_table.tail())"
   ]
  },
  {
   "cell_type": "markdown",
   "id": "7ea2ee1c",
   "metadata": {},
   "source": [
    "#### 7. **Análise de Crescimento** <a class=\"anchor\" id=\"growth-analysis\"></a>\n",
    "\n",
    "Uma análise fundamental em estudos de uso da terra é identificar as áreas que mais se expandiram ao longo do tempo. Vamos identificar os 5 maiores clusters antropogênicos por área máxima atingida durante todo o período de estudo.\n",
    "\n",
    "Esta análise nos permite identificar:\n",
    "- **Grandes empreendimentos**: Fazendas, projetos de colonização, áreas urbanas\n",
    "- **Padrões de expansão**: Como e quando as áreas se desenvolveram\n",
    "- **Hotspots de desmatamento**: Regiões de intensa atividade antropogênica"
   ]
  },
  {
   "cell_type": "code",
   "execution_count": null,
   "id": "2dbbffad",
   "metadata": {},
   "outputs": [],
   "source": [
    "# Get top 5 largest size of all time\n",
    "size = tracking_table.groupby('uid')['size'].max().to_frame()\n",
    "size = size.sort_values(by='size', ascending=False)\n",
    "size.head(5)"
   ]
  },
  {
   "cell_type": "markdown",
   "id": "6cc0487e",
   "metadata": {},
   "source": [
    "**Evolução Temporal das Maiores Áreas**:\n",
    "\n",
    "O gráfico abaixo mostra a evolução do tamanho (em pixels) dos 3 maiores clusters antropogênicos ao longo do tempo. Cada linha representa uma área diferente, permitindo observar:\n",
    "\n",
    "- **Padrões de crescimento**: Expansão gradual vs. explosiva\n",
    "- **Períodos de intensificação**: Anos com maior atividade\n",
    "- **Estabilização**: Quando as áreas atingem tamanho máximo\n",
    "- **Declínio**: Possível abandono ou mudança de uso"
   ]
  },
  {
   "cell_type": "code",
   "execution_count": null,
   "id": "81c9bfd5",
   "metadata": {},
   "outputs": [],
   "source": [
    "uid_list = size.index[0:3].tolist()\n",
    "tracking_table.loc[tracking_table['uid'].isin(uid_list)].groupby('uid')['size'].plot(legend=True, \n",
    "                                                                                     title='Area of the 10 largest clusters',\n",
    "                                                                                     xlabel='Timestamp', \n",
    "                                                                                     ylabel='Number of pixels');"
   ]
  },
  {
   "cell_type": "markdown",
   "id": "6c07eaeb",
   "metadata": {},
   "source": [
    "#### 8. **Visualização Temporal** <a class=\"anchor\" id=\"visualization\"></a>\n",
    "\n",
    "A animação temporal é uma ferramenta poderosa para visualizar mudanças no uso da terra ao longo de décadas. Diferentemente das animações meteorológicas que mostram movimento em horas, aqui observamos transformações que ocorrem ao longo de anos.\n",
    "\n",
    "**Configurações de Visualização**:\n",
    "\n",
    "- **Período**: 1985-2022 (38 anos de transformação)\n",
    "- **Foco**: Os 3 maiores clusters identificados\n",
    "- **Background**: Imagem de satélite para contexto geográfico\n",
    "- **Contornos**: Destaque em vermelho para as áreas antropogênicas\n",
    "- **Sem trajetórias**: Para uso da terra, o movimento não é relevante\n",
    "\n",
    "**Interpretação**:\n",
    "- **Vermelho**: Áreas de atividade antropogênica\n",
    "- **Expansão**: Crescimento das áreas vermelhas ao longo dos anos\n",
    "- **Fragmentação**: Divisão de grandes áreas em menores\n",
    "- **Conectividade**: Fusão de áreas próximas\n",
    "\n",
    "**Importante**: A geração da animação pode levar vários minutos devido ao processamento de 38 frames de alta resolução."
   ]
  },
  {
   "cell_type": "code",
   "execution_count": null,
   "id": "f24419c8",
   "metadata": {},
   "outputs": [],
   "source": [
    "# Cria animação do rastreamento\n",
    "print(\"Gerando animação do rastreamento...\")\n",
    "\n",
    "# Chama a função de plotagem de animação\n",
    "pyfortracc.plot_animation(\n",
    "    # === CONFIGURAÇÕES BÁSICAS ===\n",
    "    read_function=read_function,                    # Função de leitura dos dados\n",
    "    figsize=(8, 6),                               # Tamanho da figura (largura, altura)\n",
    "    name_list=name_list,                           # Dicionário com parâmetros\n",
    "    \n",
    "    # === CONFIGURAÇÕES TEMPORAIS ===\n",
    "    start_timestamp=\"1985\",  # Timestamp inicial\n",
    "    end_timestamp=\"2022\",    # Timestamp final\n",
    "\n",
    "    # === CONFIGURAÇÕES DE VISUALIZAÇÃO ===\n",
    "    info=False,                           # Não mostra nome das colunas de info\n",
    "    trajectory=False,                        # Não mostra trajetórias\n",
    "    centroid=False,                          # Não mostra centroides\n",
    "    title='Área Antropizada com conectividade de pixel (1985-2022)', # Título da barra de cores\n",
    "    max_val=1,\n",
    "    min_val=1,\n",
    "    nan_value=0,                            # Valor para dados NaN\n",
    "    cbar=False,\n",
    "\n",
    "    uid_list=uid_list,                     # Lista de UIDs para destacar (None para todos)\n",
    "        \n",
    "    # === CONFIGURAÇÕES DOS CONTORNOS E INFORMAÇÕES ===\n",
    "    bound_color='red',                            # Cor dos contornos dos sistemas\n",
    "    bound_linewidth=0.5,                           # Espessura da linha dos contornos\n",
    "\n",
    "    background='satellite',                  # Imagem de fundo (google, satellite, terrain, hybrid, none)\n",
    "    \n",
    "    # === CONFIGURAÇÕES DE PERFORMANCE ===\n",
    "    parallel=True                                 # Processamento serial (mais estável)\n",
    ")"
   ]
  },
  {
   "cell_type": "markdown",
   "id": "c044776a",
   "metadata": {},
   "source": [
    "#### 9. **Conclusão** <a class=\"anchor\" id=\"conclusion\"></a>\n",
    "\n",
    "**Parabéns!** Você concluiu com sucesso o terceiro e último exemplo do minicurso pyfortracc. Neste tutorial inovador, você aprendeu:\n",
    "\n",
    "- **Aplicação interdisciplinar**: Como usar algoritmos de rastreamento meteorológico para análise de uso da terra\n",
    "- **Processamento de dados do MapBiomas**: Download e manipulação de séries temporais de classificação\n",
    "- **Configuração para escalas temporais longas**: Adaptação de parâmetros para mudanças que ocorrem ao longo de décadas\n",
    "- **Análise de mudanças antropogênicas**: Identificação e quantificação de expansão de atividades humanas\n",
    "- **Visualização de transformações territoriais**: Criação de animações mostrando evolução do uso da terra\n",
    "- **Análise de padrões temporais**: Compreensão de dinâmicas de crescimento e desenvolvimento\n",
    "\n",
    "### **Aplicações Potenciais**\n",
    "\n",
    "Este método pode ser aplicado em diversos contextos:\n",
    "\n",
    "1. **Monitoramento de Desmatamento**: Rastreamento de perda florestal ao longo do tempo\n",
    "2. **Expansão Urbana**: Análise do crescimento de cidades e ocupação do território\n",
    "3. **Desenvolvimento Agrícola**: Acompanhamento da expansão da fronteira agrícola\n",
    "4. **Planejamento Territorial**: Suporte a políticas de ordenamento do território\n",
    "5. **Estudos de Impacto Ambiental**: Quantificação de pressões antrópicas sobre ecossistemas\n",
    "6. **Análise de Políticas Públicas**: Avaliação de efetividade de medidas de conservação\n",
    "\n",
    "### **Limitações e Considerações**\n",
    "\n",
    "- **Resolução temporal**: Limitada pela disponibilidade anual do MapBiomas\n",
    "- **Resolução espacial**: Dependente da resolução dos dados de entrada (30m)\n",
    "- **Classificação**: Sujeita às limitações e erros do MapBiomas\n",
    "- **Conectividade**: Parâmetros de sobreposição devem ser ajustados por região\n",
    "\n",
    "### **Recursos Adicionais**\n",
    "\n",
    "- [Documentação do pyfortracc](https://fortracc.github.io/pyfortracc/)\n",
    "- [Portal do MapBiomas](https://mapbiomas.org/)\n",
    "- [Coleção 8 do MapBiomas](https://brasil.mapbiomas.org/en/statistics/)\n",
    "- [Artigos sobre o algoritmo ForTraCC](https://doi.org/10.3390/rs14215408)\n",
    "- [Suporte técnico](mailto:fortracc.project@inpe.br)"
   ]
  }
 ],
 "metadata": {
  "kernelspec": {
   "display_name": "pyfortracc",
   "language": "python",
   "name": "python3"
  },
  "language_info": {
   "codemirror_mode": {
    "name": "ipython",
    "version": 3
   },
   "file_extension": ".py",
   "mimetype": "text/x-python",
   "name": "python",
   "nbconvert_exporter": "python",
   "pygments_lexer": "ipython3",
   "version": "3.12.11"
  }
 },
 "nbformat": 4,
 "nbformat_minor": 5
}
